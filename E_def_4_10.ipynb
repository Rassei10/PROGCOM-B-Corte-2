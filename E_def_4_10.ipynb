{
  "nbformat": 4,
  "nbformat_minor": 0,
  "metadata": {
    "colab": {
      "provenance": []
    },
    "kernelspec": {
      "name": "python3",
      "display_name": "Python 3"
    },
    "language_info": {
      "name": "python"
    }
  },
  "cells": [
    {
      "cell_type": "code",
      "execution_count": 4,
      "metadata": {
        "colab": {
          "base_uri": "https://localhost:8080/",
          "height": 70
        },
        "id": "U_Uqih8CX6JK",
        "outputId": "58ea2d9b-6257-4079-a5b8-d2ddcdf7ccf1"
      },
      "outputs": [
        {
          "name": "stdout",
          "output_type": "stream",
          "text": [
            "Número 1: 4\n",
            "Número 2: 2\n"
          ]
        },
        {
          "output_type": "execute_result",
          "data": {
            "text/plain": [
              "'4 es mayor'"
            ],
            "application/vnd.google.colaboratory.intrinsic+json": {
              "type": "string"
            }
          },
          "metadata": {},
          "execution_count": 4
        }
      ],
      "source": [
        "#Ejercicio 1\n",
        "def mayor(a,b):\n",
        "  if a>b:\n",
        "    c=f\"{a} es mayor\"\n",
        "  else:\n",
        "    c=f\"{b} es mayor\"\n",
        "  return c\n",
        "n1=int(input(\"Número 1: \"))\n",
        "n2=int(input(\"Número 2: \"))\n",
        "mayor(n1,n2)"
      ]
    },
    {
      "cell_type": "code",
      "source": [
        "#Ejercicio 2\n",
        "def Mi(a,b):\n",
        "  if a>b:\n",
        "    c=a\n",
        "  else:\n",
        "    c=b\n",
        "  return c\n",
        "def Mf(a,b):\n",
        "  if a>b:\n",
        "    c=f\"{a} es mayor\"\n",
        "  else:\n",
        "    c=f\"{b} es mayor\"\n",
        "  return c\n",
        "n1=int(input(\"Número 1: \"))\n",
        "n2=int(input(\"Número 2: \"))\n",
        "n3=int(input(\"Número 3: \"))\n",
        "nm=Mi(n1,n2)\n",
        "Mf(nm,n3)\n",
        "\n"
      ],
      "metadata": {
        "colab": {
          "base_uri": "https://localhost:8080/",
          "height": 88
        },
        "id": "vwKQsnERZWpN",
        "outputId": "cfe8d4c4-754f-4e98-c85a-94b8dd69fe81"
      },
      "execution_count": 7,
      "outputs": [
        {
          "name": "stdout",
          "output_type": "stream",
          "text": [
            "Número 1: 80\n",
            "Número 2: 5\n",
            "Número 3: 23\n"
          ]
        },
        {
          "output_type": "execute_result",
          "data": {
            "text/plain": [
              "'80 es mayor'"
            ],
            "application/vnd.google.colaboratory.intrinsic+json": {
              "type": "string"
            }
          },
          "metadata": {},
          "execution_count": 7
        }
      ]
    },
    {
      "cell_type": "code",
      "source": [
        "#Ejercicio 3\n",
        "def Suma(a,b,c):\n",
        "  d=f\"La suma de {a}+{b}+{c} es {a+b+c}\"\n",
        "  return d\n",
        "N=[0,0,0]\n",
        "for a in range(0,3):\n",
        "  N[a]=int(input(f\"Número {a+1}: \"))\n",
        "Suma(N[0],N[1],N[2])"
      ],
      "metadata": {
        "colab": {
          "base_uri": "https://localhost:8080/",
          "height": 88
        },
        "id": "l56Ho8hZap0I",
        "outputId": "10e93c25-ce82-499c-a208-a02f53a83a1b"
      },
      "execution_count": 12,
      "outputs": [
        {
          "name": "stdout",
          "output_type": "stream",
          "text": [
            "Número 1: 3\n",
            "Número 2: 4\n",
            "Número 3: 5\n"
          ]
        },
        {
          "output_type": "execute_result",
          "data": {
            "text/plain": [
              "'La suma de 3+4+5 es 12'"
            ],
            "application/vnd.google.colaboratory.intrinsic+json": {
              "type": "string"
            }
          },
          "metadata": {},
          "execution_count": 12
        }
      ]
    },
    {
      "cell_type": "code",
      "source": [
        "#Ejercicio 4\n",
        "def Suma(a,b,c,d):\n",
        "  e=f\"La suma de {a}+{b}+{c}+{d} es {a+b+c+d}\"\n",
        "  return e\n",
        "N=[0,0,0,0]\n",
        "for a in range(0,4):\n",
        "  N[a]=int(input(f\"Número {a+1}: \"))\n",
        "Suma(N[0],N[1],N[2],N[3])"
      ],
      "metadata": {
        "colab": {
          "base_uri": "https://localhost:8080/",
          "height": 105
        },
        "id": "cgCdrRj3aptw",
        "outputId": "05f80c1f-601e-4fef-f325-6d8b57a80899"
      },
      "execution_count": 14,
      "outputs": [
        {
          "name": "stdout",
          "output_type": "stream",
          "text": [
            "Número 1: 3\n",
            "Número 2: 4\n",
            "Número 3: 5\n",
            "Número 4: 6\n"
          ]
        },
        {
          "output_type": "execute_result",
          "data": {
            "text/plain": [
              "'La suma de 3+4+5+6 es 18'"
            ],
            "application/vnd.google.colaboratory.intrinsic+json": {
              "type": "string"
            }
          },
          "metadata": {},
          "execution_count": 14
        }
      ]
    },
    {
      "cell_type": "code",
      "source": [
        "#Ejercicio 5\n",
        "def Suma(a,b):\n",
        "  e=0\n",
        "  for s in range(0,a):\n",
        "    e=e+b[s]\n",
        "  return e\n",
        "\n",
        "a=int(input(\"¿Cuantos números quiere sumar?\"))\n",
        "N=[None]*a\n",
        "for s in range(0,a):\n",
        "  N[s]=int(input(f\"Número {s+1}: \"))\n",
        "Suma(a,N)"
      ],
      "metadata": {
        "colab": {
          "base_uri": "https://localhost:8080/"
        },
        "id": "pHH91kxUcRy6",
        "outputId": "eefe6e5b-2f02-4f79-ef6a-e992a5dadb76"
      },
      "execution_count": 20,
      "outputs": [
        {
          "name": "stdout",
          "output_type": "stream",
          "text": [
            "¿Cuantos números quiere sumar?10\n",
            "Número 1: 1\n",
            "Número 2: 2\n",
            "Número 3: 3\n",
            "Número 4: 4\n",
            "Número 5: 5\n",
            "Número 6: 6\n",
            "Número 7: 7\n",
            "Número 8: 8\n",
            "Número 9: 9\n",
            "Número 10: 10\n"
          ]
        },
        {
          "output_type": "execute_result",
          "data": {
            "text/plain": [
              "55"
            ]
          },
          "metadata": {},
          "execution_count": 20
        }
      ]
    },
    {
      "cell_type": "code",
      "source": [
        "#Ejercicio 6\n",
        "def Multi(a,b,c):\n",
        "  d=f\"La multiplicación de {a}x{b}x{c} es {a*b*c}\"\n",
        "  return d\n",
        "N=[0,0,0]\n",
        "for a in range(0,3):\n",
        "  N[a]=int(input(f\"Número {a+1}: \"))\n",
        "Multi(N[0],N[1],N[2])"
      ],
      "metadata": {
        "colab": {
          "base_uri": "https://localhost:8080/",
          "height": 88
        },
        "id": "Y1KAFPl5czlM",
        "outputId": "d7b04914-cd67-4711-8a68-3fb96ace4fb8"
      },
      "execution_count": 21,
      "outputs": [
        {
          "name": "stdout",
          "output_type": "stream",
          "text": [
            "Número 1: 2\n",
            "Número 2: 4\n",
            "Número 3: 5\n"
          ]
        },
        {
          "output_type": "execute_result",
          "data": {
            "text/plain": [
              "'La multiplicación de 2x4x5 es 40'"
            ],
            "application/vnd.google.colaboratory.intrinsic+json": {
              "type": "string"
            }
          },
          "metadata": {},
          "execution_count": 21
        }
      ]
    },
    {
      "cell_type": "code",
      "source": [
        "#Ejercicio 7\n",
        "def Multi(a,b,c,d):\n",
        "  e=f\"La multiplicación de {a}x{b}x{c}x{d} es {a*b*c*d}\"\n",
        "  return e\n",
        "N=[0,0,0,0]\n",
        "for a in range(0,4):\n",
        "  N[a]=int(input(f\"Número {a+1}: \"))\n",
        "Multi(N[0],N[1],N[2],N[3])"
      ],
      "metadata": {
        "id": "L8ExAVhNeIaE"
      },
      "execution_count": null,
      "outputs": []
    },
    {
      "cell_type": "code",
      "source": [
        "#Ejercicio 8\n",
        "def Multi(a,b):\n",
        "  e=1\n",
        "  for s in range(0,a):\n",
        "    e=e*b[s]\n",
        "  return e\n",
        "a=int(input(\"¿Cuantos números quiere multiplicar?\"))\n",
        "N=[None]*a\n",
        "for s in range(0,a):\n",
        "  N[s]=int(input(f\"Número {s+1}: \"))\n",
        "Multi(a,N)"
      ],
      "metadata": {
        "colab": {
          "base_uri": "https://localhost:8080/"
        },
        "id": "YnYeLFPNfZCz",
        "outputId": "eb6805f4-aef3-4f26-c9e9-17d7ecfcf7aa"
      },
      "execution_count": 23,
      "outputs": [
        {
          "name": "stdout",
          "output_type": "stream",
          "text": [
            "¿Cuantos números quiere multiplicar?5\n",
            "Número 1: 2\n",
            "Número 2: 3\n",
            "Número 3: 4\n",
            "Número 4: 5\n",
            "Número 5: 6\n"
          ]
        },
        {
          "output_type": "execute_result",
          "data": {
            "text/plain": [
              "720"
            ]
          },
          "metadata": {},
          "execution_count": 23
        }
      ]
    },
    {
      "cell_type": "code",
      "source": [
        "#Ejercicio 9\n",
        "def reverse(a):\n",
        "  d=a[::-1]\n",
        "  return d\n",
        "a=input(\"Ingrese una palabra: \")\n",
        "\n",
        "reverse(a)"
      ],
      "metadata": {
        "colab": {
          "base_uri": "https://localhost:8080/",
          "height": 53
        },
        "id": "UAYyi2irf3RY",
        "outputId": "55012fbe-0ade-4311-a9eb-650c102b3752"
      },
      "execution_count": 40,
      "outputs": [
        {
          "name": "stdout",
          "output_type": "stream",
          "text": [
            "Ingrese una palabra: Watermelon\n"
          ]
        },
        {
          "output_type": "execute_result",
          "data": {
            "text/plain": [
              "'nolemretaW'"
            ],
            "application/vnd.google.colaboratory.intrinsic+json": {
              "type": "string"
            }
          },
          "metadata": {},
          "execution_count": 40
        }
      ]
    },
    {
      "cell_type": "code",
      "source": [
        "#Ejercicio 10\n",
        "def factorial(a):\n",
        "  d=1\n",
        "  for s in range(1,a+1):\n",
        "    d=d*s\n",
        "  h=f\"El factorial de {a} es {d}\"\n",
        "  return h\n",
        "n1=int(input(\"Factorial del número: \"))\n",
        "factorial(n1)\n"
      ],
      "metadata": {
        "colab": {
          "base_uri": "https://localhost:8080/",
          "height": 53
        },
        "id": "FblJ2tPGgdUo",
        "outputId": "bee8f17d-e226-466b-cba5-aa1d827881ab"
      },
      "execution_count": 50,
      "outputs": [
        {
          "name": "stdout",
          "output_type": "stream",
          "text": [
            "Factorial del número: 5\n"
          ]
        },
        {
          "output_type": "execute_result",
          "data": {
            "text/plain": [
              "'El factorial de 5 es 120'"
            ],
            "application/vnd.google.colaboratory.intrinsic+json": {
              "type": "string"
            }
          },
          "metadata": {},
          "execution_count": 50
        }
      ]
    },
    {
      "cell_type": "code",
      "source": [
        "#Ejercicio 11\n",
        "def rango(a,b,c):\n",
        "  if c>a and c<b:\n",
        "    d=f\"{c} está en el rango indicado\"\n",
        "  else:\n",
        "    d=f\"{c} no está en el rango indicado\"\n",
        "  return d\n",
        "m=float(input(\"Mínimo del rango: \"))\n",
        "M=float(input(\"Máximo del rango: \"))\n",
        "n1=float(input(\"Número: \"))\n",
        "rango(m,M,n1)"
      ],
      "metadata": {
        "colab": {
          "base_uri": "https://localhost:8080/",
          "height": 88
        },
        "id": "2DPZsuMcj7Mb",
        "outputId": "4137aee1-2f51-44aa-f34c-125b794bd9dc"
      },
      "execution_count": 54,
      "outputs": [
        {
          "name": "stdout",
          "output_type": "stream",
          "text": [
            "Mínimo del rango: 2\n",
            "Máximo del rango: 10\n",
            "Número: 45\n"
          ]
        },
        {
          "output_type": "execute_result",
          "data": {
            "text/plain": [
              "'45.0 no está en el rango indicado'"
            ],
            "application/vnd.google.colaboratory.intrinsic+json": {
              "type": "string"
            }
          },
          "metadata": {},
          "execution_count": 54
        }
      ]
    },
    {
      "cell_type": "code",
      "source": [
        "#Ejercicio 12\n",
        "def letter(a,b,c):\n",
        "  f=len(a)\n",
        "  L=[0,0,0]\n",
        "  for s in range(0,f):\n",
        "    d=a[s] in b\n",
        "    e=a[s] in c\n",
        "    if d==True:\n",
        "      L[0]=L[0]+1\n",
        "    elif e==True:\n",
        "      L[1]=L[1]+1\n",
        "    else:\n",
        "      L[2]=L[2]+1\n",
        "  return f\"Mayúsculas: {L[0]} Minúsculas: {L[1]} Espacios:{L[2]}\"\n",
        "M=[\"A\",\"B\",\"C\",\"D\",\"E\",\"F\",\"G\",\"H\",\"I\",\"J\",\"K\",\"L\",\"M\",\"N\",\"Ñ\",\"O\",\"P\",\"Q\",\"R\",\"S\",\"T\",\"U\",\"V\",\"W\",\"X\",\"Y\",\"Z\"]\n",
        "m=[\"a\",\"b\",\"c\",\"d\",\"e\",\"f\",\"g\",\"h\",\"i\",\"j\",\"k\",\"l\",\"m\",\"n\",\"ñ\",\"o\",\"p\",\"q\",\"r\",\"s\",\"t\",\"u\",\"v\",\"w\",\"x\",\"y\",\"z\"]\n",
        "r=input(\"Ingrese una oración: \")\n",
        "n=1\n",
        "letter(r,M,m)\n"
      ],
      "metadata": {
        "colab": {
          "base_uri": "https://localhost:8080/",
          "height": 53
        },
        "id": "uSWlfOtXmrL_",
        "outputId": "9523a08c-da2c-46c2-bc34-dfce17010fd3"
      },
      "execution_count": 71,
      "outputs": [
        {
          "name": "stdout",
          "output_type": "stream",
          "text": [
            "Ingrese una oración: Mi madre tiene cancer\n"
          ]
        },
        {
          "output_type": "execute_result",
          "data": {
            "text/plain": [
              "'Mayúsculas: 1 Minúsculas: 17 Espacios:3'"
            ],
            "application/vnd.google.colaboratory.intrinsic+json": {
              "type": "string"
            }
          },
          "metadata": {},
          "execution_count": 71
        }
      ]
    },
    {
      "cell_type": "code",
      "source": [
        "#Ejercicio 14\n",
        "def par(a,N):\n",
        "  p=0\n",
        "  r=0\n",
        "  for s in range(a):\n",
        "    if N[s]%2==0:\n",
        "      p=p+1\n",
        "  par=[None]*p\n",
        "  for s in range(p+1):\n",
        "    if N[s]%2==0:\n",
        "      par[r]=N[s]\n",
        "      r=r+1\n",
        "  return par\n",
        "a=int(input(\"¿Cuantos números quiere almacenar?\"))\n",
        "N=[None]*a\n",
        "for s in range(0,a):\n",
        "  N[s]=int(input(f\"Número {s+1}: \"))\n",
        "par(a,N)\n"
      ],
      "metadata": {
        "colab": {
          "base_uri": "https://localhost:8080/"
        },
        "id": "Y7R5uUpeqOIX",
        "outputId": "d0b77c40-d9c1-4362-ebc0-0fd4244e2a72"
      },
      "execution_count": 82,
      "outputs": [
        {
          "name": "stdout",
          "output_type": "stream",
          "text": [
            "¿Cuantos números quiere almacenar?4\n",
            "Número 1: 2\n",
            "Número 2: 8\n",
            "Número 3: 3\n",
            "Número 4: 1\n"
          ]
        },
        {
          "output_type": "execute_result",
          "data": {
            "text/plain": [
              "[2, 8]"
            ]
          },
          "metadata": {},
          "execution_count": 82
        }
      ]
    }
  ]
}