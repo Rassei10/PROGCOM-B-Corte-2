{
  "nbformat": 4,
  "nbformat_minor": 0,
  "metadata": {
    "colab": {
      "provenance": []
    },
    "kernelspec": {
      "name": "python3",
      "display_name": "Python 3"
    },
    "language_info": {
      "name": "python"
    }
  },
  "cells": [
    {
      "cell_type": "code",
      "execution_count": 19,
      "metadata": {
        "id": "wDEPXLeigZwe"
      },
      "outputs": [],
      "source": [
        "class Humano:\n",
        "  def __init__(self,nombre,ki,color_cabello,altura,nojos,color_ojos,brazos,piernas,sexo,peso,dientes,unas,orejas,boca,iq,tipo_sangre,colorpiel,nbelleza):\n",
        "    self.nombre=nombre\n",
        "    self.ki=ki\n",
        "    self.color_cabello=color_cabello\n",
        "    self.altura=altura\n",
        "    self.nojos=nojos\n",
        "    self.color_ojos=color_ojos\n",
        "    self.brazos=brazos\n",
        "    self.piernas=piernas\n",
        "    self.sexo=sexo\n",
        "    self.peso=peso\n",
        "    self.dientes=dientes\n",
        "    self.unas=unas\n",
        "    self.orejas=orejas\n",
        "    self.boca=boca\n",
        "    self.iq=iq\n",
        "    self.tipo_sangre=tipo_sangre\n",
        "    self.colorpiel=colorpiel\n",
        "    self.nbelleza=nbelleza\n",
        "  def mov(self,vel):\n",
        "    if vel==0:\n",
        "      return f\"{self.nombre} no se esta moviendo, revisar si sigue vivo\"\n",
        "    elif 3>=vel>0:\n",
        "      return f\"{self.nombre} esta gateando\"\n",
        "    elif 8>=vel>3:\n",
        "      return f\"{self.nombre} esta caminando\"\n",
        "    elif 20>=vel>8:\n",
        "      return f\"{self.nombre} esta trotando\"\n",
        "    elif 40>=vel>20:\n",
        "      return f\"{self.nombre} esta corriendo\"\n",
        "    elif 70>=vel>40:\n",
        "      return f\"{self.nombre} esta corriendo rapido\"\n",
        "    elif 400>=vel>70:\n",
        "      return f\"{self.nombre} esta volando\"\n",
        "    elif vel>400:\n",
        "      return f\"{self.nombre} no se esta moviendo por su cuenta\"\n",
        "\n",
        "  def trab(self,trabajo):\n",
        "    if trabajo==\"\":\n",
        "      return f\"{self.nombre} esta desempleado\"\n",
        "    if 100<self.nbelleza<=200:\n",
        "      return f\"{self.nombre} es actor\"\n",
        "    elif 200<self.nbelleza:\n",
        "      return f\"{self.nombre} es modelo\"\n",
        "    if self.ki>10000:\n",
        "      return f\"{self.nombre} es un guerrero z\"\n",
        "    if self.iq>170:\n",
        "      return f\"{self.nombre} es un cientifico de Corp.capsula\"\n",
        "    if self.colorpiel==\"Negro\":\n",
        "      return f\"{self.nombre} es un esclavo\"\n",
        "\n",
        "    \n",
        "      \n",
        "\n"
      ]
    },
    {
      "cell_type": "code",
      "source": [
        "H=Humano(\"Rassei\",9001,\"Negro\",1.70,2,\"Marron\",2,2,\"Macho\",60,20,20,2,1,10000000000000000,\"A+\",\"Negro\",-3000)"
      ],
      "metadata": {
        "id": "ZVB_rUszl7Na"
      },
      "execution_count": 20,
      "outputs": []
    },
    {
      "cell_type": "code",
      "source": [
        "H.mov(800)"
      ],
      "metadata": {
        "colab": {
          "base_uri": "https://localhost:8080/",
          "height": 36
        },
        "id": "EVczKh_xmm44",
        "outputId": "45ae85bb-68e7-44d4-9ce8-b7d5c6da4c73"
      },
      "execution_count": 21,
      "outputs": [
        {
          "output_type": "execute_result",
          "data": {
            "text/plain": [
              "'Rassei no se esta moviendo por su cuenta'"
            ],
            "application/vnd.google.colaboratory.intrinsic+json": {
              "type": "string"
            }
          },
          "metadata": {},
          "execution_count": 21
        }
      ]
    },
    {
      "cell_type": "code",
      "source": [
        "H.trab(\"a\")"
      ],
      "metadata": {
        "colab": {
          "base_uri": "https://localhost:8080/",
          "height": 36
        },
        "id": "00slGk06r88P",
        "outputId": "ceab6566-6234-4dfa-d719-da385a542553"
      },
      "execution_count": 22,
      "outputs": [
        {
          "output_type": "execute_result",
          "data": {
            "text/plain": [
              "'Rassei es un cientifico de Corp.capsula'"
            ],
            "application/vnd.google.colaboratory.intrinsic+json": {
              "type": "string"
            }
          },
          "metadata": {},
          "execution_count": 22
        }
      ]
    },
    {
      "cell_type": "code",
      "source": [
        "class Sayayin:\n",
        "  def __init__(self,nombre,colamono):\n",
        "    self.nombre=nombre\n",
        "    self.colamono=colamono\n",
        "  def ozaru(self,luna):\n",
        "    if self.colamono==True:\n",
        "      if luna.lower()==\"llena\":\n",
        "       return f\"{self.nombre} se transforma en ozaru\"\n",
        "      else:\n",
        "        return f\"{self.nombre} tiene la cola, pero no se transforma porque no hay luna llena\"\n",
        "    else: \n",
        "      return f\"{self.nombre} no tiene cola\"\n",
        "\n"
      ],
      "metadata": {
        "id": "99ImyQXys3Q1"
      },
      "execution_count": 31,
      "outputs": []
    },
    {
      "cell_type": "code",
      "source": [
        "Goku=Sayayin(\"Goku\",True)\n",
        "Goku.ozaru(\"llena\")"
      ],
      "metadata": {
        "colab": {
          "base_uri": "https://localhost:8080/",
          "height": 36
        },
        "id": "lIUwxb5StfUC",
        "outputId": "c86ec897-80c3-4a8e-cf36-37090e3bb758"
      },
      "execution_count": 45,
      "outputs": [
        {
          "output_type": "execute_result",
          "data": {
            "text/plain": [
              "'Goku se transforma en ozaru'"
            ],
            "application/vnd.google.colaboratory.intrinsic+json": {
              "type": "string"
            }
          },
          "metadata": {},
          "execution_count": 45
        }
      ]
    },
    {
      "cell_type": "code",
      "source": [
        "class Hibrido(Sayayin,Humano):\n",
        "  def poderes(self):\n",
        "    print(self.nombre +\"puede transformarse en modo bestia\")"
      ],
      "metadata": {
        "id": "y3WRcdXqvSbA"
      },
      "execution_count": 43,
      "outputs": []
    },
    {
      "cell_type": "code",
      "source": [
        "gohan=Hibrido(\"Gohan\",False)\n",
        "gohan.mov(10)\n",
        "gohan.poderes"
      ],
      "metadata": {
        "colab": {
          "base_uri": "https://localhost:8080/"
        },
        "id": "qkf8e4lHvapU",
        "outputId": "5726c831-4a95-4d31-dee7-c13e6104c16e"
      },
      "execution_count": 46,
      "outputs": [
        {
          "output_type": "execute_result",
          "data": {
            "text/plain": [
              "<bound method Hibrido.poderes of <__main__.Hibrido object at 0x7f670e2b7310>>"
            ]
          },
          "metadata": {},
          "execution_count": 46
        }
      ]
    }
  ]
}