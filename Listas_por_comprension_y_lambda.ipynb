{
  "nbformat": 4,
  "nbformat_minor": 0,
  "metadata": {
    "colab": {
      "provenance": []
    },
    "kernelspec": {
      "name": "python3",
      "display_name": "Python 3"
    },
    "language_info": {
      "name": "python"
    }
  },
  "cells": [
    {
      "cell_type": "markdown",
      "source": [
        "Samuel"
      ],
      "metadata": {
        "id": "IKNmYn67zDBy"
      }
    },
    {
      "cell_type": "code",
      "execution_count": null,
      "metadata": {
        "id": "lIgxIiLmk4ks"
      },
      "outputs": [],
      "source": [
        "numbers=[1,2,3,4]\n",
        "results=[]\n",
        "for n in numbers:\n",
        "  results.append(n+1)\n",
        "results"
      ]
    },
    {
      "cell_type": "markdown",
      "source": [
        "Ejercicio de Samuel\n",
        "La lista por comprensión es una construcción sintactica disponible en Python con la que se pueden crear listas a partir de otros elementos iterables. Siendo una de las contracciones más elegantes del lenguaje. A continuación, se mostrara la sintaxis baásica para trabajar con las listas por comprensión.\n"
      ],
      "metadata": {
        "id": "rBVNhDrkpKpU"
      }
    },
    {
      "cell_type": "markdown",
      "source": [
        "Jesus"
      ],
      "metadata": {
        "id": "PekvUNqny_Sj"
      }
    },
    {
      "cell_type": "code",
      "source": [
        "n=int(input(\"Hasta que número quieres imprimir los pares e impares: \"))\n",
        "pares=[número for número in range(0,n+1) if número%2==0]\n",
        "print(pares)\n",
        "impares=[número for número in range(0,n+1) if número%2!=0]\n",
        "print(impares)\n"
      ],
      "metadata": {
        "id": "amTwMEpZrL_r"
      },
      "execution_count": null,
      "outputs": []
    },
    {
      "cell_type": "code",
      "source": [
        "num=int(input(\"Hasta que número quieres imprimir los pares e impares: \"))\n",
        "def hola(n):\n",
        " pares=[número for número in range(0,n+1) if número%2==0]\n",
        " print(pares)\n",
        " impares=[número for número in range(0,n+1) if número%2!=0]\n",
        " print(impares)\n",
        "hola(num)"
      ],
      "metadata": {
        "id": "VQXzMr9HrwUJ"
      },
      "execution_count": null,
      "outputs": []
    },
    {
      "cell_type": "code",
      "source": [
        "num=int(input(\"Hasta que número quieres imprimir los pares e impares: \"))\n",
        "mi_lista=[n for n in range(0, num+1)]\n",
        "pares=list(filter(lambda num:num%2==0,mi_lista))\n",
        "print(pares)\n",
        "impares=list(filter(lambda num:num%2!=0,mi_lista))\n",
        "print(impares)\n"
      ],
      "metadata": {
        "id": "XjjJ0HPxsCCy"
      },
      "execution_count": null,
      "outputs": []
    },
    {
      "cell_type": "markdown",
      "source": [
        "Jhonsito"
      ],
      "metadata": {
        "id": "-JheRhrTy72T"
      }
    },
    {
      "cell_type": "code",
      "source": [
        "def perfecto(numero):\n",
        "  perf=0\n",
        "  for i in range(1,numero):\n",
        "    if numero%i==0:\n",
        "      perf+=i\n",
        "    if perf==numero:\n",
        "      print(\"Es numero perfecto\")\n",
        "      return True\n",
        "    else:\n",
        "      print(\"No es numero perfecto\")\n",
        "numero=6\n",
        "perfecto(numero)"
      ],
      "metadata": {
        "colab": {
          "base_uri": "https://localhost:8080/"
        },
        "id": "x1-jGDDbk96I",
        "outputId": "9c4993b7-9952-42eb-813c-cee2beafc8f3"
      },
      "execution_count": null,
      "outputs": [
        {
          "output_type": "stream",
          "name": "stdout",
          "text": [
            "No es numero perfecto\n",
            "No es numero perfecto\n",
            "Es numero perfecto\n"
          ]
        },
        {
          "output_type": "execute_result",
          "data": {
            "text/plain": [
              "True"
            ]
          },
          "metadata": {},
          "execution_count": 4
        }
      ]
    },
    {
      "cell_type": "code",
      "source": [
        "def numeros():\n",
        "  a=int(input(\"ingresa un nümero\"))\n",
        "  b=int(input(\"ingresa un nümero\"))\n",
        "  c=int(input(\"ingresa un nümero\"))\n",
        "  d=int(input(\"ingresa un nümero\"))\n",
        "  perfect=[a,b,c,d]\n",
        "  perfect=[elemento for elemento in perfect if perfecto(elemento==True)]\n",
        "numeros()"
      ],
      "metadata": {
        "id": "qEGZhTxXpqo4"
      },
      "execution_count": null,
      "outputs": []
    },
    {
      "cell_type": "code",
      "source": [
        "lista=[2,3,6,4]\n",
        "perfect2=list(map(lambda elemento:perfecto(elemento)==True,lista))\n",
        "perfect2"
      ],
      "metadata": {
        "colab": {
          "base_uri": "https://localhost:8080/"
        },
        "id": "W9a7z_REk-gY",
        "outputId": "00e995cd-dba6-4641-b3ee-e80c05d7434e"
      },
      "execution_count": null,
      "outputs": [
        {
          "output_type": "stream",
          "name": "stdout",
          "text": [
            "No es numero perfecto\n",
            "No es numero perfecto\n",
            "No es numero perfecto\n",
            "No es numero perfecto\n",
            "No es numero perfecto\n",
            "Es numero perfecto\n",
            "No es numero perfecto\n",
            "No es numero perfecto\n",
            "No es numero perfecto\n"
          ]
        },
        {
          "output_type": "execute_result",
          "data": {
            "text/plain": [
              "[False, False, True, False]"
            ]
          },
          "metadata": {},
          "execution_count": 3
        }
      ]
    },
    {
      "cell_type": "markdown",
      "source": [
        "Juandivox"
      ],
      "metadata": {
        "id": "ee6RFMiKrpp5"
      }
    },
    {
      "cell_type": "code",
      "source": [
        "import random\n",
        "numero1= [random.randint(0,2000) for x in range(100)]\n",
        "numero2= [random.randint(0,2000) for x in range(100)]\n",
        "comun=list(filter(lambda num:num in numero1, numero2))\n",
        "for  a in numero1:\n",
        "  for b in numero2:\n",
        "    if a==b:\n",
        "      comun.append(a)\n",
        "comun"
      ],
      "metadata": {
        "id": "l_FLEQ5Pq687",
        "colab": {
          "base_uri": "https://localhost:8080/"
        },
        "outputId": "aace6a75-1b4b-46af-8051-2373950b358e"
      },
      "execution_count": null,
      "outputs": [
        {
          "output_type": "execute_result",
          "data": {
            "text/plain": [
              "[1365, 1365]"
            ]
          },
          "metadata": {},
          "execution_count": 3
        }
      ]
    },
    {
      "cell_type": "code",
      "source": [
        "import random\n",
        "numero1= [random.randint(0,2000) for x in range(100)]\n",
        "numero2= [random.randint(0,2000) for x in range(100)]\n",
        "comun=[x for x in numero1 for y in numero2 if x==y]\n",
        "comun"
      ],
      "metadata": {
        "colab": {
          "base_uri": "https://localhost:8080/"
        },
        "id": "GSUdsCKvnLP-",
        "outputId": "e2245c19-0c60-4ed6-d1b2-d1a305bfee76"
      },
      "execution_count": null,
      "outputs": [
        {
          "output_type": "execute_result",
          "data": {
            "text/plain": [
              "[706, 1309, 1621, 1458, 586, 1280, 1280, 1, 47, 1654, 1644]"
            ]
          },
          "metadata": {},
          "execution_count": 5
        }
      ]
    },
    {
      "cell_type": "markdown",
      "source": [
        "Daniel"
      ],
      "metadata": {
        "id": "MyMIxMNUrDKZ"
      }
    },
    {
      "cell_type": "code",
      "source": [
        "lambda_func=lambda x:x**2\n",
        "lambda_func(3)"
      ],
      "metadata": {
        "colab": {
          "base_uri": "https://localhost:8080/"
        },
        "id": "fH6YkBdXrC9p",
        "outputId": "84d21815-14ea-426a-88ab-8a231da443a9"
      },
      "execution_count": null,
      "outputs": [
        {
          "output_type": "execute_result",
          "data": {
            "text/plain": [
              "9"
            ]
          },
          "metadata": {},
          "execution_count": 6
        }
      ]
    },
    {
      "cell_type": "code",
      "source": [
        "def squarel(num):\n",
        "  return n**2\n",
        "print(squarel(5))"
      ],
      "metadata": {
        "id": "v7QC1sVFrZjJ"
      },
      "execution_count": null,
      "outputs": []
    },
    {
      "cell_type": "code",
      "source": [
        "L=[2,4,6,8]\n",
        "L2 = [n**2 for n in L]\n",
        "print(L2)"
      ],
      "metadata": {
        "id": "yjO_LpEZrOk5"
      },
      "execution_count": null,
      "outputs": []
    },
    {
      "cell_type": "markdown",
      "source": [
        "\n",
        "Angie"
      ],
      "metadata": {
        "id": "hCEy87Z7rsS5"
      }
    },
    {
      "cell_type": "code",
      "source": [
        "nom1=[\"Samuelle\", \"Angie\",\"Valentina\",\"Alejandro\",\"Jonsito\"]\n",
        "nom2=[\"Samuelle\", \"Andrea\",\"Samdra\",\"Anderson\",\"Jonsito\"]\n"
      ],
      "metadata": {
        "id": "Ee9_iWSyr8wA"
      },
      "execution_count": null,
      "outputs": []
    },
    {
      "cell_type": "code",
      "source": [
        "common={a for a in nom1 for b in nom2 if a==b}\n",
        "common"
      ],
      "metadata": {
        "colab": {
          "base_uri": "https://localhost:8080/"
        },
        "id": "L7jOOzlRtdAO",
        "outputId": "705c9151-b5ae-499e-f0c9-7c1facd46bf9"
      },
      "execution_count": null,
      "outputs": [
        {
          "output_type": "execute_result",
          "data": {
            "text/plain": [
              "{'Jonsito', 'Samuelle'}"
            ]
          },
          "metadata": {},
          "execution_count": 11
        }
      ]
    },
    {
      "cell_type": "code",
      "source": [
        "common1=lambda nom1,nom2:common\n",
        "print(common1(nom1,nom2))"
      ],
      "metadata": {
        "colab": {
          "base_uri": "https://localhost:8080/"
        },
        "id": "uOMnvNxutmsX",
        "outputId": "c960a44d-653a-4fea-b970-29a6ac34a1a2"
      },
      "execution_count": null,
      "outputs": [
        {
          "output_type": "stream",
          "name": "stdout",
          "text": [
            "{'Jonsito', 'Samuelle'}\n"
          ]
        }
      ]
    },
    {
      "cell_type": "code",
      "source": [
        "def common(nom1,nom2):\n",
        "  for a in nom1:\n",
        "    for b in nom2:\n",
        "      if a==b:\n",
        "        common2.append(a)\n",
        "  return common2\n",
        "common2=[]\n",
        "common(nom1,nom2)\n",
        "common2"
      ],
      "metadata": {
        "colab": {
          "base_uri": "https://localhost:8080/"
        },
        "id": "0zaVdjkOuWuH",
        "outputId": "0908c1fb-3413-4278-9286-c931fcc06cbf"
      },
      "execution_count": null,
      "outputs": [
        {
          "output_type": "execute_result",
          "data": {
            "text/plain": [
              "['Samuelle', 'Jonsito']"
            ]
          },
          "metadata": {},
          "execution_count": 18
        }
      ]
    },
    {
      "cell_type": "markdown",
      "source": [
        "Valentina"
      ],
      "metadata": {
        "id": "0aP_BFFkv6Qu"
      }
    },
    {
      "cell_type": "code",
      "source": [
        "def listaIMC(usuarios):\n",
        "  sis=[]\n",
        "  IMC=[]\n",
        "  b=0\n",
        "  a2=0\n",
        "  for n in range(usuarios):\n",
        "    w=input(\"¿Cuál es tu nombre?: \")\n",
        "    b=int(input(\"Ingresa el peso: \"))\n",
        "    a2=int(input(\"Ingrese la altura: \"))\n",
        "    sis.append((w,b/a2**2))\n",
        "    IMC.append(b/a**2)\n",
        "  return sis,IMC\n",
        "user=int(input(\"¿Cuántos usuarios hay?: \"))\n",
        "sis,imc=listaIMC(user)\n",
        "sis\n",
        "imc"
      ],
      "metadata": {
        "colab": {
          "base_uri": "https://localhost:8080/"
        },
        "id": "XbnX9SD-wFJs",
        "outputId": "2cdb9fcc-8453-47d1-f37f-eb2f8dc9e9e0"
      },
      "execution_count": null,
      "outputs": [
        {
          "name": "stdout",
          "output_type": "stream",
          "text": [
            "¿Cuántos usuarios hay?: 2\n",
            "¿Cuál es tu nombre?: rert\n",
            "Ingresa el peso: 34\n",
            "Ingrese la altura: 2\n",
            "¿Cuál es tu nombre?: rtwerwe\n",
            "Ingresa el peso: 34\n",
            "Ingrese la altura: 1\n"
          ]
        },
        {
          "output_type": "execute_result",
          "data": {
            "text/plain": [
              "[1.9249921160249365e-05, 1.9249921160249365e-05]"
            ]
          },
          "metadata": {},
          "execution_count": 20
        }
      ]
    },
    {
      "cell_type": "code",
      "source": [
        "sis=listaIMC(user)\n",
        "sis2=[n for n in imc if n>= 18.5]\n",
        "print(sis2)"
      ],
      "metadata": {
        "colab": {
          "base_uri": "https://localhost:8080/"
        },
        "id": "sK9omLbpxbwM",
        "outputId": "6d365e5a-3ecf-4ad8-804d-3709fd70bce0"
      },
      "execution_count": null,
      "outputs": [
        {
          "output_type": "stream",
          "name": "stdout",
          "text": [
            "¿Cuál es tu nombre?: juan\n",
            "Ingresa el peso: 34\n",
            "Ingrese la altura: 43\n",
            "¿Cuál es tu nombre?: nauj\n",
            "Ingresa el peso: 43\n",
            "Ingrese la altura: 34\n",
            "[]\n"
          ]
        }
      ]
    },
    {
      "cell_type": "code",
      "source": [
        "sis3=list(map(lambda x: \"peso insuficiente\" if x<18.5 else \"peso normal\" if (x>=18.5 and x<24.9)else \"sobrepeso\" if(x>=24.9 and x<30)else \"obesidad\",imc))\n",
        "sis3"
      ],
      "metadata": {
        "colab": {
          "base_uri": "https://localhost:8080/"
        },
        "id": "ShWWgjzMx16T",
        "outputId": "b39b1cb2-53fc-4002-dd88-f0bb4cbf3a93"
      },
      "execution_count": null,
      "outputs": [
        {
          "output_type": "execute_result",
          "data": {
            "text/plain": [
              "['peso insuficiente', 'peso insuficiente']"
            ]
          },
          "metadata": {},
          "execution_count": 23
        }
      ]
    },
    {
      "cell_type": "markdown",
      "source": [
        "Luis"
      ],
      "metadata": {
        "id": "wSGYuIhgy2Bb"
      }
    },
    {
      "cell_type": "code",
      "source": [
        "print(\"Ingrese su codigo\")\n",
        "caracter=input()\n",
        "if len(caracter)==8:\n",
        "  if caracter[0]==\"u\":\n",
        "    print(\"Eres estudiante Unab\")\n",
        "  elif(caracter.startswith(\"a000\")):\n",
        "    print(\"Eres estudiante de los andes\")\n",
        "  else:\n",
        "    if(int(caracter)>=1950):\n",
        "      print(\"Eres estudiante UIS\")\n",
        "else:\n",
        "  print(\"Su codigo no corresponde a ninguna universidad\")"
      ],
      "metadata": {
        "colab": {
          "base_uri": "https://localhost:8080/"
        },
        "id": "pPyyoH4dy5fr",
        "outputId": "b04d4d45-946d-4455-cce8-c9ab10d071aa"
      },
      "execution_count": null,
      "outputs": [
        {
          "output_type": "stream",
          "name": "stdout",
          "text": [
            "Ingrese su codigo\n",
            "u00053369\n",
            "Su codigo no corresponde a ninguna universidad\n"
          ]
        }
      ]
    },
    {
      "cell_type": "code",
      "source": [
        "universidades=[\"unab\",\"uis\", \"andes\"]\n",
        "codigo=[\"U0123456\",\"198562\",\"a0005645\"]\n",
        "u=[cod for cod in codigo if(cod[0]==\"u\" and len(cod)==8)]\n",
        "print(u)"
      ],
      "metadata": {
        "colab": {
          "base_uri": "https://localhost:8080/"
        },
        "id": "qneg7_4y0jF6",
        "outputId": "2db3168e-5bcf-49fc-ab7a-ce37f43b68d5"
      },
      "execution_count": null,
      "outputs": [
        {
          "output_type": "stream",
          "name": "stdout",
          "text": [
            "[]\n"
          ]
        }
      ]
    },
    {
      "cell_type": "code",
      "source": [
        "y=list(map(lambda x:\"unab\" if (x[0]==\"U\" or x[0]==\"u\") else None, codigo))\n",
        "y"
      ],
      "metadata": {
        "colab": {
          "base_uri": "https://localhost:8080/"
        },
        "id": "u_MSnt2I1FTK",
        "outputId": "9865238b-3b8e-4287-efaa-309bb4440f59"
      },
      "execution_count": null,
      "outputs": [
        {
          "output_type": "execute_result",
          "data": {
            "text/plain": [
              "['unab', None, None]"
            ]
          },
          "metadata": {},
          "execution_count": 28
        }
      ]
    },
    {
      "cell_type": "markdown",
      "source": [
        "Cristian"
      ],
      "metadata": {
        "id": "mTLam0-O2B_S"
      }
    },
    {
      "cell_type": "code",
      "source": [
        "lista=[]\n",
        "x=0\n",
        "while x==0:\n",
        "  entrada= input(\"Ingrese un codigo\")\n",
        "  lista.append(entrada)\n",
        "  a=int(input(\"¿Deseas ingresar otro?, ingresa 0 si lo deseas, sino regresa 1\"))\n",
        "  if a==1:\n",
        "    x=x+1\n",
        "clasificacion=[a for a in lista if a.startswith(\"U00\") and len(a)=9]\n",
        "print(f\"Hay {len(clasificacion)} estudiante(s) de la Unab y sus codigo(1) son {clasificacion}\")\n",
        "clasificacion =[a for a in lista if a.startswith(\"A000\") and len(a)=9]\n",
        "print(f\"Hay {len(clasificacion)} estudiante(s) de los And y sus codigo(1) son {clasificacion}\")"
      ],
      "metadata": {
        "id": "6PaoGgod27gD"
      },
      "execution_count": null,
      "outputs": []
    },
    {
      "cell_type": "markdown",
      "source": [
        "Armith"
      ],
      "metadata": {
        "id": "GW0iY8Ej493z"
      }
    },
    {
      "cell_type": "code",
      "source": [
        "#Tradicional\n",
        "num=[1,2,3,4,5,6,7,8,9,10]\n",
        "exp=int(input(\"Escriba su exponenete: \"))\n",
        "x=len(num)\n",
        "for n in range(1,(x)):\n",
        "  num[n]=num[n]**exp\n",
        "print(num)\n",
        "def imprimir(num):\n",
        "  s=1\n",
        "  for i in num:\n",
        "    print(f\"\\nEl resultado del elemento {s} de la lista es {i}\")\n",
        "    s+=1\n",
        "\n",
        "imprimir(num)"
      ],
      "metadata": {
        "id": "fWootwEp4_qB"
      },
      "execution_count": null,
      "outputs": []
    },
    {
      "cell_type": "code",
      "source": [
        "#Por comprension\n",
        "num=[1,2,3,4,5,6,7,8,9,10]\n",
        "exp=int(input(\"Escriba su exponenete: \"))\n",
        "numeros=[n**exp for n in num]\n",
        "numeros\n",
        "imprimir(numeros)"
      ],
      "metadata": {
        "id": "O1pVjeBY5lJw"
      },
      "execution_count": null,
      "outputs": []
    },
    {
      "cell_type": "code",
      "source": [
        "#Lambda\n",
        "num=list(range(1,11))\n",
        "exp=int(input(\"Escriba su exponenete: \"))\n",
        "numeros=lambda num,exp:(n**exp for n in num)\n",
        "numero1=numeros(num,exp)\n",
        "imprimir(list(numero1))"
      ],
      "metadata": {
        "id": "sBs31NS95nDQ"
      },
      "execution_count": null,
      "outputs": []
    }
  ]
}