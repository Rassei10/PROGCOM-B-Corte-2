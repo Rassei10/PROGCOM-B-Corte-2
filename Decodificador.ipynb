{
  "nbformat": 4,
  "nbformat_minor": 0,
  "metadata": {
    "colab": {
      "provenance": []
    },
    "kernelspec": {
      "name": "python3",
      "display_name": "Python 3"
    },
    "language_info": {
      "name": "python"
    }
  },
  "cells": [
    {
      "cell_type": "code",
      "source": [
        "Vocales=[\"a\",\"e\",\"i\",\"o\",\"u\"]\n",
        "Consonantes=[\"b\",\"c\",\"d\",\"f\",\"g\",\"h\",\"j\",\"k\",\"l\",\"m\",\"n\",\"ñ\",\"p\",\"q\",\"r\",\"s\",\"t\",\"v\",\"w\",\"x\",\"y\",\"z\"]"
      ],
      "metadata": {
        "id": "9vqQgI8BXDZM"
      },
      "execution_count": null,
      "outputs": []
    },
    {
      "cell_type": "code",
      "source": [
        "def reverse(a):\n",
        "  p=[]\n",
        "  c=len(a)\n",
        "  x=1\n",
        "  d=0\n",
        "  for x in range(c):\n",
        "    if a[x]==\" \":\n",
        "      p.append(a[d:x])\n",
        "      d=x\n",
        "  p.append(a[d:c]) \n",
        "  print(p) \n",
        "  c=len(p)\n",
        "  d=c\n",
        "  u=\"\"\n",
        "  for x in range(c-1):\n",
        "    d=d-1\n",
        "    u=u+p[d]\n",
        "  u=u+\" \"+p[0]\n",
        "  return u"
      ],
      "metadata": {
        "id": "Zhyn_eQkXqla"
      },
      "execution_count": null,
      "outputs": []
    },
    {
      "cell_type": "code",
      "source": [
        "def desmove(u):\n",
        "  z=len(u)\n",
        "  p=\"\"\n",
        "  x=-1\n",
        "  for x in range(z):\n",
        "    if (u[x] in Vocales)==True:\n",
        "      d=Vocales.index(u[x])\n",
        "      p=p+Vocales[d-3]\n",
        "    elif (u[x] in Consonantes)==True:\n",
        "      d=Consonantes.index(u[x])\n",
        "      p=p+Consonantes[d-1]    \n",
        "    else:\n",
        "      p=p+u[x]\n",
        "  return p"
      ],
      "metadata": {
        "id": "iJ7x8XgKKnOn"
      },
      "execution_count": null,
      "outputs": []
    },
    {
      "cell_type": "code",
      "source": [
        "def move(u):\n",
        "  z=len(u)\n",
        "  p=\"\"\n",
        "  x=-1\n",
        "  for x in range(z):\n",
        "    if (u[x] in Vocales)==True:\n",
        "      d=Vocales.index(u[x])\n",
        "      p=p+Vocales[d-2]\n",
        "    elif (u[x] in Consonantes)==True:\n",
        "      d=Consonantes.index(u[x])\n",
        "      p=p+Consonantes[d-21]    \n",
        "    else:\n",
        "      p=p+u[x]\n",
        "  return p\n",
        "\n"
      ],
      "metadata": {
        "id": "3_Len_DeXuKy"
      },
      "execution_count": null,
      "outputs": []
    },
    {
      "cell_type": "code",
      "source": [
        "#Oracion alrevez /// vocal 2 izquierda ///consonante 1 derecha //// CODIFICADOR\n",
        "a=input(\"Ingrese un grupo de palabras separadas por un espacio cada una: \")\n",
        "u=reverse(a)\n",
        "p=desmove(u)\n",
        "print(p)"
      ],
      "metadata": {
        "colab": {
          "base_uri": "https://localhost:8080/"
        },
        "id": "_5gKLfPiLAHM",
        "outputId": "70c74a27-1040-46bb-ba0f-4f9ebbe00dc2"
      },
      "execution_count": null,
      "outputs": [
        {
          "output_type": "stream",
          "name": "stdout",
          "text": [
            "Ingrese un grupo de palabras separadas por un espacio cada una: q\n",
            "['q']\n",
            " p\n"
          ]
        }
      ]
    },
    {
      "cell_type": "code",
      "execution_count": null,
      "metadata": {
        "colab": {
          "base_uri": "https://localhost:8080/"
        },
        "id": "56puI7IgV5j0",
        "outputId": "a2e23977-7fda-445c-e572-4ed60d16912d"
      },
      "outputs": [
        {
          "output_type": "stream",
          "name": "stdout",
          "text": [
            "Ingrese un grupo de palabras separadas por un espacio cada una: ibonsicar  rersar:\n",
            "['ibonsicar', ' ', ' rersar:']\n",
            " sustos:  aceñtados\n"
          ]
        }
      ],
      "source": [
        "#Oracion alrevez /// vocal 2 izquierda ///consonante 1 derecha /// DECODIFICADOR\n",
        "a=input(\"Ingrese un grupo de palabras separadas por un espacio cada una: \")\n",
        "u=reverse(a)\n",
        "p=move(u)\n",
        "print(p)"
      ]
    },
    {
      "cell_type": "markdown",
      "source": [],
      "metadata": {
        "id": "SnO9i3VFrvLA"
      }
    },
    {
      "cell_type": "code",
      "source": [],
      "metadata": {
        "id": "b3pfnjbBtYdl"
      },
      "execution_count": null,
      "outputs": []
    }
  ]
}