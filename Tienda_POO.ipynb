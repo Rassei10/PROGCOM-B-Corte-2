{
  "cells": [
    {
      "cell_type": "code",
      "execution_count": 17,
      "metadata": {
        "id": "DA4pqnyMk8FX"
      },
      "outputs": [],
      "source": [
        "class Producto():\n",
        "  def __init__(self,producto,precio,unidad):\n",
        "    self.producto=producto\n",
        "    self.precio=precio\n",
        "    self.unidad=unidad\n",
        "\n",
        "class Carrito():\n",
        "   def __init__(self,lista=[]):\n",
        "     self.lista=[]\n",
        "   def carro(self,a):\n",
        "     for b in self.lista:\n",
        "       if b.producto==a.producto:\n",
        "         self.lista.remove(b)\n",
        "     self.lista.append(a)\n",
        "   def revisar(self):\n",
        "     tot=0\n",
        "     for a in self.lista:\n",
        "       print(f\"{a.producto} x{a.unidad} valor: ${a.precio} por unidad\")  \n",
        "       tot=tot+a.precio*a.unidad\n",
        "     print(f\"Total: {tot}\")\n",
        "     return tot\n",
        "class Factura(Carrito):\n",
        "  def factura(self,copra1,c):\n",
        "    print(\"||| FACTURA |||\")\n",
        "    tot=compra1.revisar()\n",
        "    print(\"CON IVA || 19%  || CULPEN AL GOBIERNO\")\n",
        "    if c%50==0:\n",
        "      print(f\"FELICIDADES, POR SER EL CLIENTE {c} HAS GANADO UN DECUENTO DEL 3%\")\n",
        "      tot=tot*0.97\n",
        "    print(f\"TOTAL : {round(tot*1.19,2)}\")"
      ]
    },
    {
      "cell_type": "code",
      "source": [
        "prod={\"latte\":3,\"capuccino\":2,\"espresso Americano\":3,\"frappe\":5,\"croissant\":3,\"hojaldra\":3.5,\"pastel de pollo\":3,\"pan con pan\":5}\n",
        "Leches={\"leche de vaca\":2,\"leche de cabra\":2.5,\"leche en polvo\":0.5,\"leche de oveja\":1}\n",
        "Tamaños={\"pequeña\":0.8,\"normal\":1,\"grande\":1.2}\n",
        "p=\"a\"\n",
        "total=0\n",
        "gan=0\n",
        "c=0\n",
        "t=None\n",
        "tam=\"a\"\n",
        "o=\"s\"\n",
        "dia=\"s\"\n",
        "while dia.lower()[0]==\"s\":\n",
        " c=c+1\n",
        " compra1=Carrito()\n",
        " print(\"BINEVENIDO AL CAFE DE RASSEI\")\n",
        " while o.lower()[0]!=\"n\":\n",
        "  if o.lower()==\"revisar\":\n",
        "    compra1.revisar()\n",
        "  else:\n",
        "   p=\"a\"\n",
        "   t=\"a\"\n",
        "   tam=\"a\"\n",
        "   while (p.lower() in prod)==False:\n",
        "    p=input(\"\\nMENU\\n\\nBEBIDAS                COMIDA\\nLatte  $3              Croissant  $3\\nCapuccino  $2          Hojaldra  $3.5\\nEspresso Americano  $3 Pastel de pollo  $3 \\nFrappe  $5             Pan con pan  $5\\n¿Que desea llevar?: \")\n",
        "    if (p.lower() in prod)==False:\n",
        "      print(\"NO TENEMOS ESE PRODUCTO EN NUESTRO CATÁLOGO\")\n",
        "   cash=prod[p.lower()]\n",
        "   if p.lower()==\"latte\" or p.lower()==\"capuccino\" or p.lower()==\"espresso americano\" or p.lower()==\"frappe\":\n",
        "     while (t.lower() in Leches)==False:\n",
        "      t=input(\"Leches:\\nLeche de vaca $2\\nLeche de cabra $2.5\\nLeche en polvo $0.5\\nLeche de oveja $1\\n¿Que leche desea en su bebida?: \")\n",
        "      if (t.lower() in Leches)==False:\n",
        "       print(\"NO TENEMOS ESE PRODUCTO EN NUESTRO CATÁLOGO\")\n",
        "     while (tam.lower() in Tamaños)==False:\n",
        "      tam=input(\"Pequeña\\nNormal\\nGrande\\n¿De que tamaño quiere su bebida?:\")\n",
        "      if (tam.lower() in Tamaños)==False:\n",
        "       print(\"NO TENEMOS ESE TAMAÑO EN NUESTRO CATÁLOGO\")\n",
        "     cash=(cash+Leches[t.lower()])*Tamaños[tam.lower()]\n",
        "     p=p+\" con \"+t+\" de tamaño \"+tam\n",
        "   print(f\"{p}: ${round(cash,2)}\")\n",
        "   n=int(input(f\"¿Cuantos {p} quiere?: \"))\n",
        "   compra=Producto(p.capitalize(),cash,n)\n",
        "   compra1.carro(compra)\n",
        "  o=input(\"¿Desea comprar algo mas?\")\n",
        " factura=Factura(compra1)\n",
        " factura.factura(compra1,c)\n",
        " for z in compra1.lista:\n",
        "   total=total+z.unidad*z.precio\n",
        " gan=gan+total\n",
        " dia=input(\"¿Otro cliente?\")\n",
        "print(f\"Las ganancias del día son {gan}\")\n",
        "print(f\"Los 'impuestos' de hoy son: {gan*0.19}\")"
      ],
      "metadata": {
        "id": "cm8ucRynSIwa",
        "colab": {
          "base_uri": "https://localhost:8080/"
        },
        "outputId": "75e7c40b-1e33-4a90-c513-74dbb8233a58"
      },
      "execution_count": null,
      "outputs": [
        {
          "output_type": "stream",
          "name": "stdout",
          "text": [
            "BINEVENIDO AL CAFE DE RASSEI\n"
          ]
        }
      ]
    },
    {
      "cell_type": "code",
      "source": [
        "def first_word(j):\n",
        "    # your code here\n",
        "    \n",
        "    for x in range(len(j)):\n",
        "      print(x)\n",
        "      if j[x]==\" \":\n",
        "            print(j[0:x])\n",
        "j=\"Hola mundo\"\n",
        "first_word(j)"
      ],
      "metadata": {
        "colab": {
          "base_uri": "https://localhost:8080/"
        },
        "id": "Jec1qqMnqD7V",
        "outputId": "0c39ac49-9fa5-4354-c84c-25f46375e49a"
      },
      "execution_count": null,
      "outputs": [
        {
          "output_type": "stream",
          "name": "stdout",
          "text": [
            "0\n",
            "1\n",
            "2\n",
            "3\n",
            "4\n",
            "Hola\n",
            "5\n",
            "6\n",
            "7\n",
            "8\n",
            "9\n"
          ]
        }
      ]
    }
  ],
  "metadata": {
    "colab": {
      "collapsed_sections": [],
      "provenance": []
    },
    "kernelspec": {
      "display_name": "Python 3",
      "name": "python3"
    },
    "language_info": {
      "name": "python"
    }
  },
  "nbformat": 4,
  "nbformat_minor": 0
}