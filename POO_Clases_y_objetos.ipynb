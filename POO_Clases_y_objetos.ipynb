{
  "nbformat": 4,
  "nbformat_minor": 0,
  "metadata": {
    "colab": {
      "provenance": [],
      "collapsed_sections": []
    },
    "kernelspec": {
      "name": "python3",
      "display_name": "Python 3"
    },
    "language_info": {
      "name": "python"
    }
  },
  "cells": [
    {
      "cell_type": "markdown",
      "source": [
        "Programación Orientada a objetos POO\n",
        "class(Nombre de la clase)\n",
        "\n"
      ],
      "metadata": {
        "id": "7ShYvIuNcs8i"
      }
    },
    {
      "cell_type": "code",
      "execution_count": null,
      "metadata": {
        "id": "2Oh-gD7CcnYb"
      },
      "outputs": [],
      "source": [
        "class Empleado:\n",
        "  def __init__(self,nombre,edad,ID,salario):\n",
        "    self.nombre=nombre\n",
        "    self.edad=edad\n",
        "    self.ID=ID\n",
        "    self.salario=salario\n",
        "  def __repr__(self) ->str:\n",
        "    return f\"Nombre:{self.nombre}, Edad:{self.edad}, ID:{self.ID},Salario:{self.salario}\""
      ]
    },
    {
      "cell_type": "code",
      "source": [
        "print(sonia)"
      ],
      "metadata": {
        "colab": {
          "base_uri": "https://localhost:8080/"
        },
        "id": "s_LYo0Qvj7L0",
        "outputId": "09217255-625f-43a1-fcae-1fe6d91f2f78"
      },
      "execution_count": null,
      "outputs": [
        {
          "output_type": "stream",
          "name": "stdout",
          "text": [
            "Nombre:María, Edad:27, ID:U001585,Salario:1200000\n"
          ]
        }
      ]
    },
    {
      "cell_type": "code",
      "source": [
        "sonia=Empleado(\"María\",27,\"NOSE\",1200000)"
      ],
      "metadata": {
        "id": "gp2-OGrjdXX6"
      },
      "execution_count": null,
      "outputs": []
    },
    {
      "cell_type": "code",
      "source": [
        "type(sonia)"
      ],
      "metadata": {
        "colab": {
          "base_uri": "https://localhost:8080/"
        },
        "id": "GEShYGXjdjir",
        "outputId": "8a73a219-4eb1-4202-d500-a4f5d515fa2b"
      },
      "execution_count": null,
      "outputs": [
        {
          "output_type": "execute_result",
          "data": {
            "text/plain": [
              "__main__.Empleado"
            ]
          },
          "metadata": {},
          "execution_count": 32
        }
      ]
    },
    {
      "cell_type": "code",
      "source": [
        "sonia.ID"
      ],
      "metadata": {
        "colab": {
          "base_uri": "https://localhost:8080/",
          "height": 35
        },
        "id": "rtIsqfGge3jx",
        "outputId": "f14b01ab-0743-4de2-e6eb-539b0f7fbed2"
      },
      "execution_count": null,
      "outputs": [
        {
          "output_type": "execute_result",
          "data": {
            "text/plain": [
              "'María'"
            ],
            "application/vnd.google.colaboratory.intrinsic+json": {
              "type": "string"
            }
          },
          "metadata": {},
          "execution_count": 34
        }
      ]
    },
    {
      "cell_type": "code",
      "source": [
        "sonia.ID=\"U001585\""
      ],
      "metadata": {
        "id": "7rSz6b95fiSP"
      },
      "execution_count": null,
      "outputs": []
    },
    {
      "cell_type": "code",
      "source": [
        "sonia.__dict__#Para ver atributos"
      ],
      "metadata": {
        "colab": {
          "base_uri": "https://localhost:8080/"
        },
        "id": "h9ZjMv6efqdI",
        "outputId": "cdcd4f68-5bab-4ae2-fb5c-db85f9c0eefb"
      },
      "execution_count": null,
      "outputs": [
        {
          "output_type": "execute_result",
          "data": {
            "text/plain": [
              "{'nombre': 'María', 'edad': 27, 'ID': 'U001585', 'salario': 1200000}"
            ]
          },
          "metadata": {},
          "execution_count": 38
        }
      ]
    },
    {
      "cell_type": "code",
      "source": [
        "if sonia.salario<1000000:\n",
        "  sonia.salario=1.2*sonia.salario\n",
        "else:\n",
        "  print(\"Los asalariados que tienen el control de los medios de produccion no reciben ayuda\")"
      ],
      "metadata": {
        "colab": {
          "base_uri": "https://localhost:8080/"
        },
        "id": "EkEBlGXSf0Sg",
        "outputId": "8d54adc9-665b-4d21-9b81-1a4168aec2c0"
      },
      "execution_count": null,
      "outputs": [
        {
          "output_type": "stream",
          "name": "stdout",
          "text": [
            "Los asalariados que tienen el control de los medios de produccion no reciben ayuda\n"
          ]
        }
      ]
    },
    {
      "cell_type": "code",
      "source": [
        "class Tienda:\n",
        "  def __init__(self,producto,precio,unidad):\n",
        "    self.producto=producto\n",
        "    self.precio=precio\n",
        "    self.unidad=unidad\n",
        "  def costo(self):\n",
        "    total=self.unidad*self.precio\n",
        "    return total\n"
      ],
      "metadata": {
        "id": "LCNhAFrbg83s"
      },
      "execution_count": null,
      "outputs": []
    },
    {
      "cell_type": "code",
      "source": [
        "producto1=Tienda(\"Banano\",500,3)\n",
        "producto1.__dict__"
      ],
      "metadata": {
        "colab": {
          "base_uri": "https://localhost:8080/"
        },
        "id": "mWqi2y6riIPG",
        "outputId": "82243d2e-23fc-43bc-b790-1a4c113097ef"
      },
      "execution_count": null,
      "outputs": [
        {
          "output_type": "execute_result",
          "data": {
            "text/plain": [
              "{'producto': 'Banano', 'precio': 500, 'unidad': 3}"
            ]
          },
          "metadata": {},
          "execution_count": 52
        }
      ]
    },
    {
      "cell_type": "code",
      "source": [
        "producto1.costo()"
      ],
      "metadata": {
        "colab": {
          "base_uri": "https://localhost:8080/"
        },
        "id": "hyuZkriOiyRF",
        "outputId": "0e558ff5-28c2-4f13-b46b-aa6c6e63d0e5"
      },
      "execution_count": null,
      "outputs": [
        {
          "output_type": "execute_result",
          "data": {
            "text/plain": [
              "1500"
            ]
          },
          "metadata": {},
          "execution_count": 53
        }
      ]
    },
    {
      "cell_type": "code",
      "source": [
        "Empleado2=Empleado(\"Victor\",38,\"145598\",2000000)\n",
        "if Empleado2.salario>sonia.salario:\n",
        "  print(f\"{Empleado2.nombre} gana mas que {sonia.nombre}\")\n",
        "elif Empleado2.salario<sonia.salario:\n",
        "  print(f\"{sonia.nombre} gana mas que {Empleado2.nombre}\")\n",
        "else:\n",
        "  print(\"Ganan igual\")"
      ],
      "metadata": {
        "colab": {
          "base_uri": "https://localhost:8080/"
        },
        "id": "BVQ_AIyvi_81",
        "outputId": "137022b4-a786-4744-ad32-3f5426a66e12"
      },
      "execution_count": null,
      "outputs": [
        {
          "output_type": "stream",
          "name": "stdout",
          "text": [
            "Victor gana mas que María\n"
          ]
        }
      ]
    },
    {
      "cell_type": "code",
      "source": [
        "class Fraccion:\n",
        "  #Atributos de clase\n",
        "  num=0\n",
        "  den=1\n",
        "  def __init__(self,num=0,den=1,pot=1):\n",
        "    self.num=num\n",
        "    self.den=den\n",
        "    self.pot=pot\n",
        "  def imprimir(self):\n",
        "    print(f\"{self.num}/{self.den}\")\n",
        "  def multiplica(self,b):\n",
        "    if b.den==0 or self.den==0:\n",
        "      return \"No se puede hacer operaciones con fracciones de denominador 0\"\n",
        "    else:\n",
        "      num=self.num*b.num\n",
        "      den=self.den*b.den\n",
        "      r=Fraccion(num,den)\n",
        "    return r\n",
        "  def suma(self,b):\n",
        "    if b.den==0 or self.den==0:\n",
        "      return \"No se puede hacer operaciones con fracciones de denominador 0\"\n",
        "    else:\n",
        "     if self.den==b.den:\n",
        "       num=self.num+b.num\n",
        "       den=self.den\n",
        "     else:\n",
        "       den=self.den*b.den\n",
        "       num=(self.num*b.den)+(b.num*self.den)\n",
        "    r=Fraccion(num,den)\n",
        "    return r\n",
        "  def resta(self,b):\n",
        "    if b.den==0 or self.den==0:\n",
        "      return \"No se puede hacer operaciones con fracciones de denominador 0\"\n",
        "    else:\n",
        "     if self.den==b.den:\n",
        "       num=self.num-b.num\n",
        "       den=self.den\n",
        "     else:\n",
        "       den=self.den*b.den\n",
        "       num=(self.num*b.den)-(b.num*self.den)\n",
        "    r=Fraccion(num,den)\n",
        "    return r\n",
        "  def div(self,b):\n",
        "    if b.den==0 or self.den==0:\n",
        "      return \"No se puede hacer operaciones con fracciones de denominador 0\"\n",
        "    else:\n",
        "      num=self.num*b.den\n",
        "      den=self.den*b.num\n",
        "      r=Fraccion(num,den)\n",
        "    return r\n",
        "  def poten(self):\n",
        "     if self.den==0:\n",
        "      return \"No se puede hacer operaciones con fracciones de denominador 0\"\n",
        "     else:\n",
        "      if self.pot==0:\n",
        "       num=1\n",
        "       den=1\n",
        "      elif self.pot<0:\n",
        "        self.num, self.den =self.den, self.num\n",
        "        self.pot=self.pot*-1\n",
        "        den=self.den**self.pot\n",
        "        num=self.num**self.pot\n",
        "      else:\n",
        "        den=self.den**self.pot\n",
        "        num=self.num**self.pot\n",
        "      r=Fraccion(num,den)\n",
        "     return r\n",
        "\n",
        "\n",
        "\n",
        "\n"
      ],
      "metadata": {
        "id": "NiGawBCfk9tv"
      },
      "execution_count": 53,
      "outputs": []
    },
    {
      "cell_type": "code",
      "source": [
        "def imprimir(r):\n",
        "  if type(r)==str:\n",
        "    print(r)\n",
        "  else:\n",
        "    r.imprimir()\n"
      ],
      "metadata": {
        "id": "yuKMl_l_j0H-"
      },
      "execution_count": 50,
      "outputs": []
    },
    {
      "cell_type": "code",
      "source": [
        "a=Fraccion(0,0,1/2)\n",
        "a.imprimir()"
      ],
      "metadata": {
        "colab": {
          "base_uri": "https://localhost:8080/"
        },
        "id": "_cg4M-yVmAs9",
        "outputId": "2d5e68e9-a799-4df1-e91e-521ce06430e4"
      },
      "execution_count": 65,
      "outputs": [
        {
          "output_type": "stream",
          "name": "stdout",
          "text": [
            "0/0\n"
          ]
        }
      ]
    },
    {
      "cell_type": "code",
      "source": [
        "c=2\n"
      ],
      "metadata": {
        "id": "eUKU9-FYlnE-"
      },
      "execution_count": 44,
      "outputs": []
    },
    {
      "cell_type": "code",
      "source": [
        "b=Fraccion(2,1,1)"
      ],
      "metadata": {
        "id": "t17CY-SUm_a8"
      },
      "execution_count": 66,
      "outputs": []
    },
    {
      "cell_type": "code",
      "source": [
        "r=a.suma(b)\n",
        "imprimir(r)"
      ],
      "metadata": {
        "colab": {
          "base_uri": "https://localhost:8080/"
        },
        "id": "Gq0pWcFHnCqD",
        "outputId": "054dd65a-6d3f-4fdd-9e35-2970c3624590"
      },
      "execution_count": 67,
      "outputs": [
        {
          "output_type": "stream",
          "name": "stdout",
          "text": [
            "No se puede hacer operaciones con fracciones de denominador 0\n"
          ]
        }
      ]
    },
    {
      "cell_type": "code",
      "source": [
        "r=a.resta(b)\n",
        "imprimir(r)"
      ],
      "metadata": {
        "id": "uoo7awqXokOg",
        "colab": {
          "base_uri": "https://localhost:8080/"
        },
        "outputId": "17b34d07-b410-45b5-941b-ae00da63a909"
      },
      "execution_count": 68,
      "outputs": [
        {
          "output_type": "stream",
          "name": "stdout",
          "text": [
            "No se puede hacer operaciones con fracciones de denominador 0\n"
          ]
        }
      ]
    },
    {
      "cell_type": "code",
      "source": [
        "r=a.div(b)\n",
        "imprimir(r)"
      ],
      "metadata": {
        "colab": {
          "base_uri": "https://localhost:8080/"
        },
        "id": "8HsjyuzkkWKW",
        "outputId": "20c7773c-abce-4acf-80d0-30cad18af714"
      },
      "execution_count": 69,
      "outputs": [
        {
          "output_type": "stream",
          "name": "stdout",
          "text": [
            "No se puede hacer operaciones con fracciones de denominador 0\n"
          ]
        }
      ]
    },
    {
      "cell_type": "code",
      "source": [
        "r=a.multiplica(b)\n",
        "imprimir(r)"
      ],
      "metadata": {
        "colab": {
          "base_uri": "https://localhost:8080/"
        },
        "id": "w-2QduvkkYkz",
        "outputId": "a9ebed31-f4d1-4328-e34b-35b5896898e7"
      },
      "execution_count": 70,
      "outputs": [
        {
          "output_type": "stream",
          "name": "stdout",
          "text": [
            "No se puede hacer operaciones con fracciones de denominador 0\n"
          ]
        }
      ]
    },
    {
      "cell_type": "code",
      "source": [
        "r=a.poten()\n",
        "imprimir(r)"
      ],
      "metadata": {
        "colab": {
          "base_uri": "https://localhost:8080/"
        },
        "id": "z_nGThVNlqC9",
        "outputId": "703d11fc-c94f-47ab-fb43-ae6ea83e8a43"
      },
      "execution_count": 64,
      "outputs": [
        {
          "output_type": "stream",
          "name": "stdout",
          "text": [
            "2.6457513110645907/2.8284271247461903\n"
          ]
        }
      ]
    }
  ]
}