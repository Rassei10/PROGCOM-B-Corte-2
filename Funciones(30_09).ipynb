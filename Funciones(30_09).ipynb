{
  "nbformat": 4,
  "nbformat_minor": 0,
  "metadata": {
    "colab": {
      "provenance": []
    },
    "kernelspec": {
      "name": "python3",
      "display_name": "Python 3"
    },
    "language_info": {
      "name": "python"
    }
  },
  "cells": [
    {
      "cell_type": "code",
      "execution_count": 7,
      "metadata": {
        "colab": {
          "base_uri": "https://localhost:8080/"
        },
        "id": "uNIZNBBz-ESl",
        "outputId": "0f956081-e36e-4aec-d974-29224062593b"
      },
      "outputs": [
        {
          "output_type": "stream",
          "name": "stdout",
          "text": [
            "Valor: 0\n"
          ]
        }
      ],
      "source": [
        "def Ryo(a,b):\n",
        "  c=a+b\n",
        "  c\n",
        "  return c\n",
        "c=0\n",
        "a=5\n",
        "b=4\n",
        "Ryo(a,b)\n",
        "print(f\"Valor: {c}\")"
      ]
    },
    {
      "cell_type": "code",
      "source": [
        "def Ryo(a,b):\n",
        "  c=a+b\n",
        "  return c\n",
        "a=5\n",
        "b=4\n",
        "Ryo(a,b)"
      ],
      "metadata": {
        "colab": {
          "base_uri": "https://localhost:8080/"
        },
        "id": "tabmt6qq_Qxn",
        "outputId": "ebbdb752-49f5-4172-8c4e-097d78cfa27e"
      },
      "execution_count": 11,
      "outputs": [
        {
          "output_type": "execute_result",
          "data": {
            "text/plain": [
              "9"
            ]
          },
          "metadata": {},
          "execution_count": 11
        }
      ]
    },
    {
      "cell_type": "code",
      "source": [
        "def calc(a,b,c):\n",
        "  if c==\"+\":\n",
        "    res=a+b\n",
        "  if c==\"-\":\n",
        "    res=a-b\n",
        "  if c==\"*\":\n",
        "    res=a*b\n",
        "  if c==\"/\":\n",
        "    res=a/b\n",
        "  return res\n",
        "v1=int(input(\"Número  1: \"))\n",
        "v2=int(input(\"Número  2: \"))\n",
        "op=input(\"Operación: \")\n",
        "calc(v1,v2,op)"
      ],
      "metadata": {
        "colab": {
          "base_uri": "https://localhost:8080/"
        },
        "id": "3ATGjNUNCG8I",
        "outputId": "5b002092-98b3-4a18-8b27-6aaf98fd6735"
      },
      "execution_count": 13,
      "outputs": [
        {
          "name": "stdout",
          "output_type": "stream",
          "text": [
            "Número  1: 2\n",
            "Número  2: 4\n",
            "Operación: +\n"
          ]
        },
        {
          "output_type": "execute_result",
          "data": {
            "text/plain": [
              "6"
            ]
          },
          "metadata": {},
          "execution_count": 13
        }
      ]
    },
    {
      "cell_type": "code",
      "source": [
        "#SIN PARAMETROS CON RETORNO\n",
        "def verificar (correo, contraseña):\n",
        "  if"
      ],
      "metadata": {
        "id": "EqshqrFMKIMw"
      },
      "execution_count": null,
      "outputs": []
    },
    {
      "cell_type": "code",
      "source": [
        "#ID VALIDO\n",
        "def ID_valido(ID):\n",
        "  c=len(ID)\n",
        "  if c==8 or c==9:\n",
        "    if ID[0]==\"U\":\n",
        "      n=ID[1,c]\n",
        "      for a in range(0,c):\n",
        "        \n",
        "\n",
        "      \n",
        "\n",
        "\n"
      ],
      "metadata": {
        "id": "ubXdycu0GFUN"
      },
      "execution_count": null,
      "outputs": []
    },
    {
      "cell_type": "code",
      "source": [
        "#Ingrese correo y se revise en excel\n",
        "#1 correo 2 contraseñas"
      ],
      "metadata": {
        "id": "EkD_-HYdKbwE"
      },
      "execution_count": null,
      "outputs": []
    },
    {
      "cell_type": "code",
      "source": [
        "#NUMERO PRIMO\n",
        "print(\"N_Primo\")\n",
        "def primo(n):\n",
        "  for a in range(2,n-1,1):\n",
        "    if n%a==0:\n",
        "      return False\n",
        "  return True\n",
        "n=int(input(\"Ingrese un número: \"))\n",
        "primo(n)\n"
      ],
      "metadata": {
        "colab": {
          "base_uri": "https://localhost:8080/"
        },
        "id": "cqa2QpZcBUhz",
        "outputId": "f9c7913f-22bb-4be6-f4e0-44ba060d46f9"
      },
      "execution_count": 25,
      "outputs": [
        {
          "name": "stdout",
          "output_type": "stream",
          "text": [
            "N_Primo\n",
            "Ingrese un número: 4\n"
          ]
        },
        {
          "output_type": "execute_result",
          "data": {
            "text/plain": [
              "False"
            ]
          },
          "metadata": {},
          "execution_count": 25
        }
      ]
    },
    {
      "cell_type": "code",
      "source": [
        "#EJERCICIO 1\n",
        "def EDAD(a,b):\n",
        "  c=a-b\n",
        "  return c\n",
        "Act=int(input(\"Año actual: \"))\n",
        "Nac=int(input(\"Año de nacimiento: \"))\n",
        "X=EDAD(Act,Nac)\n",
        "Nac=int(input(\"Año de nacimiento de tu amigo: \"))\n",
        "Y=EDAD(Act,Nac)\n",
        "print(f\"Tengo {X} años y mi mejor amig@ tiene {Y} años\")"
      ],
      "metadata": {
        "colab": {
          "base_uri": "https://localhost:8080/"
        },
        "id": "FPQeZlSHNjMv",
        "outputId": "5fa2ebe8-0b86-44dd-c763-9b603c35f0c4"
      },
      "execution_count": 30,
      "outputs": [
        {
          "output_type": "stream",
          "name": "stdout",
          "text": [
            "Año actual: 2022\n",
            "Año de nacimiento: 2004\n",
            "Año de nacimiento de tu amigo: 2005\n",
            "Tengo 18 años y mi mejor amig@ tiene 17 años\n"
          ]
        }
      ]
    },
    {
      "cell_type": "code",
      "source": [
        "#EJERCICIO 2\n",
        "def inf_pers():\n",
        "  a=input(\"Nombre: \")\n",
        "  b=input(\"Edad: \")\n",
        "  c=input(\"País: \")\n",
        "  d=f\"{a}, de {c},tiene {b} años de edad\"\n",
        "  return d\n",
        "inf_pers()"
      ],
      "metadata": {
        "colab": {
          "base_uri": "https://localhost:8080/",
          "height": 88
        },
        "id": "694Bjfn6PPOZ",
        "outputId": "019e2bf2-a0e6-4732-c5f2-40e112df5117"
      },
      "execution_count": 32,
      "outputs": [
        {
          "name": "stdout",
          "output_type": "stream",
          "text": [
            "Nombre: Juan\n",
            "Edad: 17\n",
            "País: Norcorea\n"
          ]
        },
        {
          "output_type": "execute_result",
          "data": {
            "text/plain": [
              "'Juan, de Norcorea,tiene 17 años de edad'"
            ],
            "application/vnd.google.colaboratory.intrinsic+json": {
              "type": "string"
            }
          },
          "metadata": {},
          "execution_count": 32
        }
      ]
    }
  ]
}