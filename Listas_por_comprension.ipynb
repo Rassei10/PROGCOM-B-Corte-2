{
  "nbformat": 4,
  "nbformat_minor": 0,
  "metadata": {
    "colab": {
      "provenance": []
    },
    "kernelspec": {
      "name": "python3",
      "display_name": "Python 3"
    },
    "language_info": {
      "name": "python"
    }
  },
  "cells": [
    {
      "cell_type": "code",
      "execution_count": null,
      "metadata": {
        "id": "lIgxIiLmk4ks"
      },
      "outputs": [],
      "source": [
        "#Ejercicio de Samuel\n",
        "numbers=[1,2,3,4]\n",
        "results=[]\n",
        "for n in numbers:\n",
        "  results.append(n+1)\n",
        "results"
      ]
    },
    {
      "cell_type": "markdown",
      "source": [
        "Ejercicio de Samuel\n",
        "La lista por comprensión es una construcción sintactica disponible en Python con la que se pueden crear listas a partir de otros elementos iterables. Siendo una de las contracciones más elegantes del lenguaje. A continuación, se mostrara la sintaxis baásica para trabajar con las listas por comprensión.\n"
      ],
      "metadata": {
        "id": "rBVNhDrkpKpU"
      }
    },
    {
      "cell_type": "code",
      "source": [
        "#Ejercicio Jesus\n",
        "n=int(input(\"Hasta que número quieres imprimir los pares e impares: \"))\n",
        "pares=[número for número in range(0,n+1) if número%2==0]\n",
        "print(pares)\n",
        "impares=[número for número in range(0,n+1) if número%2!=0]\n",
        "print(impares)\n"
      ],
      "metadata": {
        "id": "amTwMEpZrL_r"
      },
      "execution_count": null,
      "outputs": []
    },
    {
      "cell_type": "code",
      "source": [
        "num=int(input(\"Hasta que número quieres imprimir los pares e impares: \"))\n",
        "def hola(n):\n",
        " pares=[número for número in range(0,n+1) if número%2==0]\n",
        " print(pares)\n",
        " impares=[número for número in range(0,n+1) if número%2!=0]\n",
        " print(impares)\n",
        "hola(num)"
      ],
      "metadata": {
        "id": "VQXzMr9HrwUJ"
      },
      "execution_count": null,
      "outputs": []
    },
    {
      "cell_type": "code",
      "source": [
        "num=int(input(\"Hasta que número quieres imprimir los pares e impares: \"))\n",
        "mi_lista=[n for n in range(0, num+1)]\n",
        "pares=list(filter(lambda num:num%2==0,mi_lista))\n",
        "print(pares)\n",
        "impares=list(filter(lambda num:num%2!=0,mi_lista))\n",
        "print(impares)\n"
      ],
      "metadata": {
        "id": "XjjJ0HPxsCCy"
      },
      "execution_count": null,
      "outputs": []
    },
    {
      "cell_type": "code",
      "source": [
        "#Ejercicio de Jhonsito\n",
        "def perfecto(numero):\n",
        "  perf=0\n",
        "  for i in range(1,numero):\n",
        "    if numero%i==0:\n",
        "      perf+=i\n",
        "    if perf==numero:\n",
        "      print(\"Es numero perfecto\")\n",
        "      return True\n",
        "    else:\n",
        "      print(\"No es numero perfecto\")\n",
        "numero=6\n",
        "perfecto(numero)"
      ],
      "metadata": {
        "colab": {
          "base_uri": "https://localhost:8080/"
        },
        "id": "x1-jGDDbk96I",
        "outputId": "9c4993b7-9952-42eb-813c-cee2beafc8f3"
      },
      "execution_count": 4,
      "outputs": [
        {
          "output_type": "stream",
          "name": "stdout",
          "text": [
            "No es numero perfecto\n",
            "No es numero perfecto\n",
            "Es numero perfecto\n"
          ]
        },
        {
          "output_type": "execute_result",
          "data": {
            "text/plain": [
              "True"
            ]
          },
          "metadata": {},
          "execution_count": 4
        }
      ]
    },
    {
      "cell_type": "code",
      "source": [
        "def numeros():\n",
        "  a=int(input(\"ingresa un nümero\"))\n",
        "  b=int(input(\"ingresa un nümero\"))\n",
        "  c=int(input(\"ingresa un nümero\"))\n",
        "  d=int(input(\"ingresa un nümero\"))\n",
        "  perfect=[a,b,c,d]\n",
        "  perfect=[elemento for elemento in perfect if perfecto(elemento==True)]\n",
        "numeros()"
      ],
      "metadata": {
        "id": "qEGZhTxXpqo4"
      },
      "execution_count": 2,
      "outputs": []
    },
    {
      "cell_type": "code",
      "source": [
        "lista=[2,3,6,4]\n",
        "perfect2=list(map(lambda elemento:perfecto(elemento)==True,lista))\n",
        "perfect2"
      ],
      "metadata": {
        "colab": {
          "base_uri": "https://localhost:8080/"
        },
        "id": "W9a7z_REk-gY",
        "outputId": "00e995cd-dba6-4641-b3ee-e80c05d7434e"
      },
      "execution_count": 3,
      "outputs": [
        {
          "output_type": "stream",
          "name": "stdout",
          "text": [
            "No es numero perfecto\n",
            "No es numero perfecto\n",
            "No es numero perfecto\n",
            "No es numero perfecto\n",
            "No es numero perfecto\n",
            "Es numero perfecto\n",
            "No es numero perfecto\n",
            "No es numero perfecto\n",
            "No es numero perfecto\n"
          ]
        },
        {
          "output_type": "execute_result",
          "data": {
            "text/plain": [
              "[False, False, True, False]"
            ]
          },
          "metadata": {},
          "execution_count": 3
        }
      ]
    },
    {
      "cell_type": "code",
      "source": [],
      "metadata": {
        "id": "l_FLEQ5Pq687"
      },
      "execution_count": null,
      "outputs": []
    }
  ]
}