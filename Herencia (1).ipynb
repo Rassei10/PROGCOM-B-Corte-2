{
  "nbformat": 4,
  "nbformat_minor": 0,
  "metadata": {
    "colab": {
      "provenance": []
    },
    "kernelspec": {
      "name": "python3",
      "display_name": "Python 3"
    },
    "language_info": {
      "name": "python"
    }
  },
  "cells": [
    {
      "cell_type": "code",
      "execution_count": 1,
      "metadata": {
        "id": "wDEPXLeigZwe"
      },
      "outputs": [],
      "source": [
        "import random\n",
        "class Humano:\n",
        "  def __init__(self,nombre,ki,color_cabello,altura,nojos,color_ojos,brazos,piernas,sexo,peso,dientes,unas,orejas,boca,iq,tipo_sangre,colorpiel,nbelleza):\n",
        "    self.nombre=nombre\n",
        "    self.ki=ki\n",
        "    self.color_cabello=color_cabello\n",
        "    self.altura=altura\n",
        "    self.nojos=nojos\n",
        "    self.color_ojos=color_ojos\n",
        "    self.brazos=brazos\n",
        "    self.piernas=piernas\n",
        "    self.sexo=sexo\n",
        "    self.peso=peso\n",
        "    self.dientes=dientes\n",
        "    self.unas=unas\n",
        "    self.orejas=orejas\n",
        "    self.boca=boca\n",
        "    self.iq=iq\n",
        "    self.tipo_sangre=tipo_sangre\n",
        "    self.colorpiel=colorpiel\n",
        "    self.nbelleza=nbelleza\n",
        "  def mov(self,vel):\n",
        "    if vel==0:\n",
        "      return f\"{self.nombre} no se esta moviendo, revisar si sigue vivo\"\n",
        "    elif 3>=vel>0:\n",
        "      return f\"{self.nombre} esta gateando\"\n",
        "    elif 8>=vel>3:\n",
        "      return f\"{self.nombre} esta caminando\"\n",
        "    elif 20>=vel>8:\n",
        "      return f\"{self.nombre} esta trotando\"\n",
        "    elif 40>=vel>20:\n",
        "      return f\"{self.nombre} esta corriendo\"\n",
        "    elif 70>=vel>40:\n",
        "      return f\"{self.nombre} esta corriendo rapido\"\n",
        "    elif 400>=vel>70:\n",
        "      return f\"{self.nombre} esta volando\"\n",
        "    elif vel>400:\n",
        "      return f\"{self.nombre} no se esta moviendo por su cuenta\"\n",
        "\n",
        "  def trab(self,trabajo):\n",
        "    if trabajo==\"\":\n",
        "      return f\"{self.nombre} esta desempleado\"\n",
        "    if 100<self.nbelleza<=200:\n",
        "      return f\"{self.nombre} es actor\"\n",
        "    elif 200<self.nbelleza:\n",
        "      return f\"{self.nombre} es modelo\"\n",
        "    if self.ki>10000:\n",
        "      return f\"{self.nombre} es un guerrero z\"\n",
        "    if self.iq>170:\n",
        "      return f\"{self.nombre} es un cientifico de Corp.capsula\"\n",
        "    if self.colorpiel==\"Negro\":\n",
        "      return f\"{self.nombre} es un esclavo\"\n",
        "  def muerte(self):\n",
        "    a=[\"atropellado\",\"asesinado\",\"por enfermedad\",\"por un piano que le cayo de la nada\"]\n",
        "    if self.nombre==\"Krilin\":\n",
        "      print(\"Freezzer lo mata en 0.0000000001 segundos\")\n",
        "    else:\n",
        "      print(f\"{self.nombre} muere {random.choice(a)}\")\n",
        "  \n",
        "    \n",
        "    \n",
        "    \n",
        "      \n",
        "\n"
      ]
    },
    {
      "cell_type": "code",
      "source": [
        "H=Humano(\"Krilin\",9001,\"Negro\",1.70,2,\"Marron\",2,2,\"Macho\",60,20,20,2,1,10000000000000000,\"A+\",\"Negro\",-3000)"
      ],
      "metadata": {
        "id": "ZVB_rUszl7Na"
      },
      "execution_count": 21,
      "outputs": []
    },
    {
      "cell_type": "code",
      "source": [
        "H.muerte()"
      ],
      "metadata": {
        "colab": {
          "base_uri": "https://localhost:8080/"
        },
        "id": "djF9frEPNYZS",
        "outputId": "199b4233-edf6-46d1-80a3-c02c463e0c62"
      },
      "execution_count": 22,
      "outputs": [
        {
          "output_type": "stream",
          "name": "stdout",
          "text": [
            "Freezzer lo mata en 0.0000000001 segundos\n"
          ]
        }
      ]
    },
    {
      "cell_type": "code",
      "source": [
        "H.mov(800)"
      ],
      "metadata": {
        "colab": {
          "base_uri": "https://localhost:8080/",
          "height": 36
        },
        "id": "EVczKh_xmm44",
        "outputId": "a4163ce2-775d-4881-a492-684df6488853"
      },
      "execution_count": 5,
      "outputs": [
        {
          "output_type": "execute_result",
          "data": {
            "text/plain": [
              "'Krillin no se esta moviendo por su cuenta'"
            ],
            "application/vnd.google.colaboratory.intrinsic+json": {
              "type": "string"
            }
          },
          "metadata": {},
          "execution_count": 5
        }
      ]
    },
    {
      "cell_type": "code",
      "source": [
        "H.trab(\"a\")"
      ],
      "metadata": {
        "colab": {
          "base_uri": "https://localhost:8080/",
          "height": 36
        },
        "id": "00slGk06r88P",
        "outputId": "ceab6566-6234-4dfa-d719-da385a542553"
      },
      "execution_count": null,
      "outputs": [
        {
          "output_type": "execute_result",
          "data": {
            "text/plain": [
              "'Rassei es un cientifico de Corp.capsula'"
            ],
            "application/vnd.google.colaboratory.intrinsic+json": {
              "type": "string"
            }
          },
          "metadata": {},
          "execution_count": 22
        }
      ]
    },
    {
      "cell_type": "code",
      "source": [
        "s=[\"ssj1\",\"ssj2\",\"ssj3\",\"ssj4\",\"ssjBlue\",\"ssjBlue2\"]\n",
        "color=[\"Amarillo\",\"Amarillo y suelta rayitos\",\"Amarillo y le crece una melena\",\"Negro y le crece una melena\",\"Azul\",\"Azul y suelta rayitos\"]"
      ],
      "metadata": {
        "id": "bAUGHDg6bAu3"
      },
      "execution_count": 94,
      "outputs": []
    },
    {
      "cell_type": "code",
      "source": [
        "class Sayayin:\n",
        "  def __init__(self,nombre,estatura,colamono=True,Cabello=\"Negro\",ojos=\"Negro\"):\n",
        "    self.nombre=nombre \n",
        "    self.estaura=estatura\n",
        "    self._colamono=colamono\n",
        "    self.Cabello=Cabello\n",
        "    self.ojos=ojos\n",
        "  def ozaru(self,luna):\n",
        "    if self.colamono==True:\n",
        "      if luna.lower()==\"llena\":\n",
        "       return f\"{self.nombre} se transforma en ozaru\"\n",
        "      else:\n",
        "        return f\"{self.nombre} tiene la cola, pero no se transforma porque no hay luna llena\"\n",
        "    else: \n",
        "      return f\"{self.nombre} no tiene cola\"\n",
        "  def ssj(self):\n",
        "    s=[\"ssj1\",\"ssj2\",\"ssj3\",\"ssj4\",\"ssjBlue\",\"ssjBlue2\"]\n",
        "    a=random.randint(0,5)\n",
        "    print(f\"{self.nombre} se transforma en {s[a]}\")\n",
        "  def colorpelo(self):\n",
        "    color=[\"Amarillo\",\"Amarillo y suelta rayitos\",\"Amarillo y le crece una melena\",\"Negro y le crece una melena\",\"Azul\",\"Azul y suelta rayitos\"]\n",
        "    print(f\"El pelo de {self.nombre} se torna de un color {random.choice(color)}\")\n",
        "    \n",
        "\n"
      ],
      "metadata": {
        "id": "99ImyQXys3Q1"
      },
      "execution_count": 66,
      "outputs": []
    },
    {
      "cell_type": "code",
      "source": [],
      "metadata": {
        "id": "FrDD6ZW9a__3"
      },
      "execution_count": null,
      "outputs": []
    },
    {
      "cell_type": "code",
      "source": [
        "Goku=Sayayin(\"Goku\",1.80)\n",
        "Goku.ozaru(\"llena\")"
      ],
      "metadata": {
        "colab": {
          "base_uri": "https://localhost:8080/",
          "height": 36
        },
        "id": "lIUwxb5StfUC",
        "outputId": "1b43d33c-6322-4b4f-a668-4ce7ab8367f2"
      },
      "execution_count": 48,
      "outputs": [
        {
          "output_type": "execute_result",
          "data": {
            "text/plain": [
              "'Goku se transforma en ozaru'"
            ],
            "application/vnd.google.colaboratory.intrinsic+json": {
              "type": "string"
            }
          },
          "metadata": {},
          "execution_count": 48
        }
      ]
    },
    {
      "cell_type": "code",
      "source": [
        "Goku.__dict__"
      ],
      "metadata": {
        "colab": {
          "base_uri": "https://localhost:8080/"
        },
        "id": "hsXVfGGXV3YZ",
        "outputId": "76f7a256-ccfa-4638-d0ca-a3946dcb0130"
      },
      "execution_count": 49,
      "outputs": [
        {
          "output_type": "execute_result",
          "data": {
            "text/plain": [
              "{'nombre': 'Goku', 'colamono': True, '_estaura': 1.8}"
            ]
          },
          "metadata": {},
          "execution_count": 49
        }
      ]
    },
    {
      "cell_type": "code",
      "source": [
        "Goku.ssj()"
      ],
      "metadata": {
        "colab": {
          "base_uri": "https://localhost:8080/"
        },
        "id": "whm7Q35KOeiF",
        "outputId": "44a64cad-1084-4159-ec5e-1530bfa34889"
      },
      "execution_count": 12,
      "outputs": [
        {
          "output_type": "stream",
          "name": "stdout",
          "text": [
            "Goku se transforma en ssj2\n"
          ]
        }
      ]
    },
    {
      "cell_type": "code",
      "source": [
        "class Hibrido(Sayayin,Humano):\n",
        "  def __init__(self,Cabello,ojos,nombre,estatura):\n",
        "    super().__init__(nombre,estatura,colamono=False)\n",
        "    self.Cabello=Cabello\n",
        "    self.ojos=ojos\n",
        "    \n",
        "  def poderes(self):\n",
        "    print(self.nombre +\"puede transformarse en modo bestia\")\n",
        "  \n",
        "  "
      ],
      "metadata": {
        "id": "y3WRcdXqvSbA"
      },
      "execution_count": 76,
      "outputs": []
    },
    {
      "cell_type": "code",
      "source": [
        "gohan=Hibrido(\"Azul\",\"Rojo\",\"Gohan\",1.80)\n",
        "gohan.__dict__"
      ],
      "metadata": {
        "colab": {
          "base_uri": "https://localhost:8080/"
        },
        "id": "qkf8e4lHvapU",
        "outputId": "05dbec09-e8f7-44d8-c1ba-919b07b3b6c5"
      },
      "execution_count": 77,
      "outputs": [
        {
          "output_type": "execute_result",
          "data": {
            "text/plain": [
              "{'nombre': 'Gohan',\n",
              " 'estaura': 1.8,\n",
              " '_colamono': False,\n",
              " 'Cabello': 'Azul',\n",
              " 'ojos': 'Rojo'}"
            ]
          },
          "metadata": {},
          "execution_count": 77
        }
      ]
    }
  ]
}