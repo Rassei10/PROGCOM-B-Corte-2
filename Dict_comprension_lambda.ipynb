{
  "nbformat": 4,
  "nbformat_minor": 0,
  "metadata": {
    "colab": {
      "provenance": []
    },
    "kernelspec": {
      "name": "python3",
      "display_name": "Python 3"
    },
    "language_info": {
      "name": "python"
    }
  },
  "cells": [
    {
      "cell_type": "markdown",
      "source": [
        "Santiago Carvajal"
      ],
      "metadata": {
        "id": "yVn13ucFGAk3"
      }
    },
    {
      "cell_type": "markdown",
      "source": [
        "Como usar la comprension de diccionarios para crear un diccionario de python a partir de una iteracion\n",
        "\n",
        "podemos crear un nuenvo en pyhton usando solamente un iterable si elegimos generar ya sea las claves o los valores en marcha. Cuando elegimos generar los valores en cuestio, podemos usar los items en el iterable como claves y viceversa. La sintaxis general es mostrada abajo. Por favor observar que los nombres entre <> son marcadosn de posicion para los nombres actuales de las variables.\n",
        "\n",
        "Ejemplo 1 Supongamos que tenemos una lista de clientes que visitan nuestra tienda, y nos gustaria ofrecer un descuento aleatorioa cada cliente. Nos gustaria ademas , que el valor de descuento se encuentre entre 1 y 100. En python random.radint(1,j), retorna un valor entre i y j incluyendo ambos extremos. Por tanto, podemos utlizar la funcion randint() para generar un descuento entre 1 y 100 para cada cliente en la lista."
      ],
      "metadata": {
        "id": "NCF9a17xIEEi"
      }
    },
    {
      "cell_type": "code",
      "execution_count": 4,
      "metadata": {
        "colab": {
          "base_uri": "https://localhost:8080/"
        },
        "id": "JeMGy4zjF6Mc",
        "outputId": "1824a1a3-2069-46c2-b49f-b35b594c8683"
      },
      "outputs": [
        {
          "output_type": "stream",
          "name": "stdout",
          "text": [
            "{'Alex': 45, 'Bob': 24, 'Carol': 51, 'Dave': 2, 'Flow': 43, 'Katie': 6, 'Nate': 23}\n"
          ]
        }
      ],
      "source": [
        "#comprension\n",
        "import random\n",
        "clientes = [\"Alex\",\"Bob\",\"Carol\",\"Dave\",\"Flow\",\"Katie\",\"Nate\"]\n",
        "diccionario_descuentos = {cliente:random.randint(1,100) for cliente in clientes}\n",
        "print(diccionario_descuentos)"
      ]
    },
    {
      "cell_type": "code",
      "source": [
        "#Lambda\n",
        "import random\n",
        "clientes=  [\"Alex\",\"Bob\",\"Carol\",\"Dave\",\"Flow\",\"Katie\",\"Nate\"]\n",
        "diccionario_descuentos = (dict(map(lambda diccionario_descuentos:(diccionario_descuentos,random.randint(1,100)),clientes)))\n",
        "print(diccionario_descuentos)"
      ],
      "metadata": {
        "colab": {
          "base_uri": "https://localhost:8080/"
        },
        "id": "CZIvFQRQIzYK",
        "outputId": "8e4ea2cd-a38a-452f-a78c-112a0a207798"
      },
      "execution_count": 2,
      "outputs": [
        {
          "output_type": "stream",
          "name": "stdout",
          "text": [
            "{'Alex': 71, 'Bob': 64, 'Carol': 96, 'Dave': 4, 'Flow': 65, 'Katie': 43, 'Nate': 25}\n"
          ]
        }
      ]
    },
    {
      "cell_type": "markdown",
      "source": [
        "\n",
        "\n",
        "Juan David Vargas\n",
        "\n"
      ],
      "metadata": {
        "id": "gQZFtY9uJaLC"
      }
    },
    {
      "cell_type": "code",
      "source": [
        "Productos=[\"milk\",\"bread\",\"butter\",\"apple\",\"watermelon\",\"banana\",\"candy\",\"water\",\"ice cream\"]\n",
        "precio=[3,4,10,2,5,4.5,3.2,9,5,6.5]\n",
        "precio_productos ={Productos:precio for (Productos,precio) in zip(Productos,precio)}\n",
        "print(precio_productos)"
      ],
      "metadata": {
        "colab": {
          "base_uri": "https://localhost:8080/"
        },
        "id": "RWusIdYoJYxb",
        "outputId": "b1914f70-c543-4233-a404-16ed3fb2955d"
      },
      "execution_count": 12,
      "outputs": [
        {
          "output_type": "stream",
          "name": "stdout",
          "text": [
            "{'milk': 3, 'bread': 4, 'butter': 10, 'apple': 2, 'watermelon': 5, 'banana': 4.5, 'candy': 3.2, 'water': 9, 'ice cream': 5}\n"
          ]
        }
      ]
    },
    {
      "cell_type": "code",
      "source": [
        "Descuentos={Productos: precio for (Productos,precio) in precio_productos.items() if precio<5 }\n",
        "print(Descuentos)"
      ],
      "metadata": {
        "colab": {
          "base_uri": "https://localhost:8080/"
        },
        "id": "g-JnRzKLKNX8",
        "outputId": "ae46fadc-c3da-4ede-f1d1-97e3bc371a17"
      },
      "execution_count": 13,
      "outputs": [
        {
          "output_type": "stream",
          "name": "stdout",
          "text": [
            "{'milk': 3, 'bread': 4, 'apple': 2, 'banana': 4.5, 'candy': 3.2}\n"
          ]
        }
      ]
    },
    {
      "cell_type": "markdown",
      "source": [
        "Jaime Rueda"
      ],
      "metadata": {
        "id": "1GYAlxJFKlME"
      }
    },
    {
      "cell_type": "code",
      "source": [
        "Productos={\"papas\":1300,\"jugos\":1800,\"helados\":2300,\"dulces\":800,\"leche\":4200}\n",
        "Operación={x:y*1.19 for (x,y) in Productos.items()}\n",
        "print(f\"El precio sin IVA de los productos es :{Productos}\")\n",
        "print(\"⮃\"*60)\n",
        "print(f\"El precio con IVA de los productos es:{Operación}\")\n"
      ],
      "metadata": {
        "colab": {
          "base_uri": "https://localhost:8080/"
        },
        "id": "eN6fZyJEKkrD",
        "outputId": "2d69a2f1-1bbc-4b11-a192-5e6707c9b179"
      },
      "execution_count": 10,
      "outputs": [
        {
          "output_type": "stream",
          "name": "stdout",
          "text": [
            "El precio sin IVA de los productos es :{'papas': 1300, 'jugos': 1800, 'helados': 2300, 'dulces': 800, 'leche': 4200}\n",
            "⮃⮃⮃⮃⮃⮃⮃⮃⮃⮃⮃⮃⮃⮃⮃⮃⮃⮃⮃⮃⮃⮃⮃⮃⮃⮃⮃⮃⮃⮃⮃⮃⮃⮃⮃⮃⮃⮃⮃⮃⮃⮃⮃⮃⮃⮃⮃⮃⮃⮃⮃⮃⮃⮃⮃⮃⮃⮃⮃⮃\n",
            "El precio con IVA de los productos es:{'papas': 1547.0, 'jugos': 2142.0, 'helados': 2737.0, 'dulces': 952.0, 'leche': 4998.0}\n"
          ]
        }
      ]
    },
    {
      "cell_type": "code",
      "source": [
        "tienda={\"papas\":1300,\"jugos\":1800,\"helados\":2300,\"dulces\":800,\"leche\":4200}\n",
        "compra=[\"papas\",\"jugos\",\"helados\",\"dulces\",\"leche\"]\n",
        "IVA=dict(map(lambda producto:(producto,tienda[producto]) if producto in tienda else(producto,None),compra))\n",
        "IVA"
      ],
      "metadata": {
        "colab": {
          "base_uri": "https://localhost:8080/"
        },
        "id": "wz0D2kDEMJhF",
        "outputId": "e27ce7fe-426a-4abe-e04a-d2ef3bfb4056"
      },
      "execution_count": 9,
      "outputs": [
        {
          "output_type": "execute_result",
          "data": {
            "text/plain": [
              "{'papas': 1300, 'jugos': 1800, 'helados': 2300, 'dulces': 800, 'leche': 4200}"
            ]
          },
          "metadata": {},
          "execution_count": 9
        }
      ]
    },
    {
      "cell_type": "markdown",
      "source": [
        "Leandro"
      ],
      "metadata": {
        "id": "qMN8gKYRM1wj"
      }
    },
    {
      "cell_type": "code",
      "source": [
        "#Dictionaries using an expression, weather cities en F° and C°\n",
        "def check_temp(value):\n",
        "  if value >=70:\n",
        "    return \"hot\"\n",
        "  elif 69>=value >= 40:\n",
        "    return \"Warn\" \n",
        "  else:\n",
        "    return \"cold\"\n",
        "\n",
        "cities={\"New York\":32, \"Boston\": 75,\"Los Angeles\":100, \"Chicago\":50}\n",
        "des_cities={key: check_temp(value) for (key,value) in cities.items()}\n",
        "print(des_cities)"
      ],
      "metadata": {
        "id": "W5zhgzvXM4yS"
      },
      "execution_count": null,
      "outputs": []
    },
    {
      "cell_type": "code",
      "source": [
        "#Dictionaries using an expression, weather cities en F° and C°\n",
        "def check_temp(value):\n",
        "  if value>= 70:\n",
        "    return \"hot\"\n",
        "  if 69>= value >= 40:\n",
        "    return \"warm\"\n",
        "  else:\n",
        "    return \"Cold\"\n",
        "cities = {\"New York\": 32,\"Boston\":75,\"Los Angeles\":100,\"Chicago\":50}\n",
        "des_cities=dict[map(lambda cit: check_temp(cities.values(cit),cities.items()))]\n",
        "#Another form\n",
        "des_cities={key: check_temp(value) for (key,value) in cities.items()}\n",
        "print(des_cities)"
      ],
      "metadata": {
        "id": "N4hORf6-Og9A"
      },
      "execution_count": null,
      "outputs": []
    },
    {
      "cell_type": "markdown",
      "source": [
        "Sebastián Zambrano"
      ],
      "metadata": {
        "id": "oRSzVTI5QTzY"
      }
    },
    {
      "cell_type": "code",
      "source": [
        "def aleatorio(opciones):\n",
        "    opciones = list(opciones)\n",
        "    while True:\n",
        "        x = random.choice(opciones)\n",
        "        opciones.remove(x)\n",
        "        yield x"
      ],
      "metadata": {
        "id": "4uHMf8ZfQTkI"
      },
      "execution_count": null,
      "outputs": []
    },
    {
      "cell_type": "code",
      "source": [
        "#Diccionarios por tradicional\n",
        "import random\n",
        "compañeros=[]\n",
        "print(\"Para no agregar mas nombres escribe '0'\")\n",
        "a=\"t\"\n",
        "while a!=\"0\":\n",
        "  a=(input(\"Ingresa el nombre de tu compañero: \"))\n",
        "  if a!=\"0\":\n",
        "    compañeros.append(a)\n",
        "cantidad=len(compañeros)\n",
        "contador=0\n",
        "numeros=[]\n",
        "while contador != (cantidad+1):\n",
        "  contador+=1\n",
        "  numeros.append(contador)\n",
        "alt = aleatorio(numeros)\n",
        "num_alt={}\n",
        "for s in range(cantidad):\n",
        "  num_alt[compañeros[s]]=next(alt)\n",
        "print(num_alt)"
      ],
      "metadata": {
        "id": "GJzNhLioQcT4"
      },
      "execution_count": null,
      "outputs": []
    },
    {
      "cell_type": "code",
      "source": [
        "#Diccionarios por comprensión\n",
        "import random\n",
        "compañeros=[]\n",
        "print(\"Para no agregar mas nombres escribe '0'\")\n",
        "a=\"t\"\n",
        "while a!=\"0\":\n",
        "  a=(input(\"Ingresa el nombre de tu compañero: \"))\n",
        "  if a!=\"0\":\n",
        "    compañeros.append(a)\n",
        "cantidad=len(compañeros)\n",
        "numeros=[num for num in range(1, (cantidad+1))]\n",
        "alt = aleatorio(numeros)\n",
        "num_alt = {orden:next(alt) for orden in compañeros }\n",
        "print(num_alt)"
      ],
      "metadata": {
        "id": "K-x0Db6eQePI"
      },
      "execution_count": null,
      "outputs": []
    },
    {
      "cell_type": "code",
      "source": [
        "#Diccionarios por lambda\n",
        "import random\n",
        "compañeros=[]\n",
        "print(\"Para no agregar mas nombres escribe '0'\")\n",
        "a=\"t\"\n",
        "while a!=\"0\":\n",
        "  a=(input(\"Ingresa el nombre de tu compañero: \"))\n",
        "  if a!=\"0\":\n",
        "    compañeros.append(a)\n",
        "cantidad=len(compañeros)\n",
        "valores=[ n for n in range (1, cantidad+1)]\n",
        "numeros=list(map(lambda num: num, valores))\n",
        "alt = aleatorio(numeros)\n",
        "num_alt = dict (map(lambda orden: (orden, next(alt) ), compañeros))\n",
        "print(num_alt)"
      ],
      "metadata": {
        "id": "0uvsCo2gQhuw"
      },
      "execution_count": null,
      "outputs": []
    },
    {
      "cell_type": "markdown",
      "source": [
        "Daniel Rodriguez"
      ],
      "metadata": {
        "id": "5xzokgKKQkTo"
      }
    },
    {
      "cell_type": "code",
      "source": [
        "#Comprension\n",
        "import random \n",
        "diccionario=[\"cliente 1\",\"cliente 2\",\"cliente 3\", \"cliente 4\",\"cliente 5\"]\n",
        "\n",
        "tienda={diccionario: random.randint(1000,100000) for diccionario in diccionario}\n",
        "tienda_sort=sorted(tienda.values())\n",
        "mayor=tienda_sort[-1]\n",
        "mayor1=tienda_sort[4::]\n",
        "cliente=list(tienda.values()).index(mayor)\n",
        "if cliente==0:\n",
        "  a=\"cliente 1\"\n",
        "if cliente==1:\n",
        "  a=\"cliente 2\"\n",
        "if cliente==2:\n",
        "  a=\"cliente 3\"\n",
        "if cliente==3:\n",
        "  a=\"cliente 4\"\n",
        "if cliente==4:\n",
        "  a=\"cliente 5\"\n",
        "oferta={producto*0.8 for producto in mayor1}\n",
        "print(f\"El {a} tuvo la mayor compra con un valor de: {mayor}, por lo tanto obtuvo un descuento del 20%, su total fue: {oferta}\")\n",
        "\n"
      ],
      "metadata": {
        "id": "8DF7a7qiQjoo"
      },
      "execution_count": null,
      "outputs": []
    },
    {
      "cell_type": "code",
      "source": [
        "#Tradicional\n",
        "import random \n",
        "diccionario=[\"cliente 1\",\"cliente 2\",\"cliente 3\", \"cliente 4\",\"cliente 5\"]\n",
        "def cositas(a):\n",
        " tienda={diccionario: random.randint(1000,100000) for diccionario in diccionario}\n",
        " tienda_sort=sorted(tienda.values())\n",
        " mayor=tienda_sort[-1]\n",
        " mayor1=tienda_sort[4::]\n",
        " cliente=list(tienda.values()).index(mayor)\n",
        " if cliente==0:\n",
        "   a=\"cliente 1\"\n",
        " if cliente==1:\n",
        "   a=\"cliente 2\"\n",
        " if cliente==2:\n",
        "   a=\"cliente 3\"\n",
        " if cliente==3:\n",
        "   a=\"cliente 4\"\n",
        " if cliente==4:\n",
        "   a=\"cliente 5\"\n",
        " oferta={producto*0.8 for producto in mayor1}\n",
        " print(f\"El {a} tuvo la mayor compra con un valor de: {mayor}, por lo tanto obtuvo un descuento del 20%, su total fue: {oferta}\")\n",
        "cositas(diccionario)"
      ],
      "metadata": {
        "id": "4viMHy7gUJ4T"
      },
      "execution_count": null,
      "outputs": []
    },
    {
      "cell_type": "code",
      "source": [
        "#lambda\n",
        "import random \n",
        "diccionario=[\"cliente 1\",\"cliente 2\",\"cliente 3\", \"cliente 4\",\"cliente 5\"]\n",
        "tienda={diccionario: random.randint(1000,100000) for diccionario in diccionario}\n",
        "tienda_sort=sorted(tienda.values())\n",
        "mayor=tienda_sort[-1]\n",
        "mayor1=tienda_sort[4::]\n",
        "oferta={producto*0.8 for producto in mayor1}\n",
        "cositas=max(tienda,key=tienda.get)\n",
        "print(f\"El {cositas} tuvo la mayor compra con un valor de: {mayor}, por lo tanto obtuvo un descuento del 20%, su total fue: {oferta}\")"
      ],
      "metadata": {
        "id": "MwaSEnO7SqWr"
      },
      "execution_count": null,
      "outputs": []
    },
    {
      "cell_type": "markdown",
      "source": [
        "Adrian"
      ],
      "metadata": {
        "id": "uT8fK-xtVi-s"
      }
    },
    {
      "cell_type": "code",
      "source": [
        "nombre=str(input(\"Ingrese el nombre del atleta: \"))\n",
        "N=int(input(\"Ingres el numero de saltos: \"))\n",
        "\n",
        "\n",
        "def fun(nombre,a):\n",
        "  lista=[]\n",
        "  for i in range(0,a):\n",
        "    name=str(f\"Salto {i+1}\")\n",
        "    lista.append(name)\n",
        "\n",
        "  print(\"--------------\")\n",
        "  print(\"La altura de los saltos se mide en metros\")\n",
        "  dic_listas={lista: float(input(f\"Ingrese la altura del salto: \")) for lista in lista}\n",
        "  distancia=sorted(dic_lista.values())\n",
        "  mayor=distancia[-1]\n",
        "  print(\"\")\n",
        "  print(f\"Atleta {nombre}:\")\n",
        "  print(dic_lista)\n",
        "  sum=8\n",
        "  for i in dic_lista.values():\n",
        "    sum+=1\n",
        "    prom=sum/a\n",
        "    redprom=round(prom,2)\n",
        "    print(f\"EL promedio de los {a} saltos es de {redprom} metros, teniendo que el mayor fue aquel con {mayor} metros de altura \")\n",
        "\n",
        "fun(nombre,N)"
      ],
      "metadata": {
        "id": "7G2L9ycfVpAS"
      },
      "execution_count": null,
      "outputs": []
    },
    {
      "cell_type": "code",
      "source": [
        "nombre=str(input(\"Ingrese el nombre del atleta: \"))\n",
        "N=int(input(\"Ingres el numero de saltos: \"))\n",
        "\n",
        "\n",
        "def fun(nombre,a):\n",
        "  lista=[]\n",
        "  for i in range(0,a):\n",
        "    name=str(f\"Salto {i+1}\")\n",
        "    lista.append(name)\n",
        "\n",
        "  print(\"--------------\")\n",
        "  print(\"La altura de los saltos se mide en metros\")\n",
        "  dic_listas=(dict(map(lambda x:(x, float(input(f\"Ingrese la altura del salto:\"))), lista)))\n",
        "  distancia=sorted(dic_listas.values())\n",
        "  mayor=distancia[-1]\n",
        "  print(\"\")\n",
        "  print(f\"Atleta {nombre}:\")\n",
        "  print(dic_listas)\n",
        "\n",
        "  sum=reduce(lambda distancia,distancia1:distancia+distancia1, distancia)\n",
        "  \n",
        "  prom=float(sum)/a\n",
        "  redprom=round(prom,2)\n",
        "  print(f\"EL promedio de los {a} saltos es de {redprom} metros, teniendo que el mayor fue aquel con {mayor} metros de altura \")\n",
        "\n",
        "fun(nombre,N)"
      ],
      "metadata": {
        "id": "COP25Te_bVGG"
      },
      "execution_count": null,
      "outputs": []
    },
    {
      "cell_type": "markdown",
      "source": [
        "Santiago Galindo"
      ],
      "metadata": {
        "id": "wVL9-xtrVkP8"
      }
    },
    {
      "cell_type": "code",
      "source": [
        "#Tradicional\n",
        "import random\n",
        "cs =[\"Andru\",\"David\",\"Sebas\"]\n",
        "CS =[\"Andres\",\"Flowey\",\"Cata\",\"Karen\"]\n",
        "DD= {cs:random.randint(1,50) for cs in cs}\n",
        "DD1 = {CS:random.randint(1,50) for CS in CS}\n",
        "print(DD,DD1)"
      ],
      "metadata": {
        "id": "tXSecMrvVrAk"
      },
      "execution_count": null,
      "outputs": []
    },
    {
      "cell_type": "code",
      "source": [
        "#def\n",
        "import random\n",
        "def A():\n",
        "  cs =[\"Andru\",\"David\",\"Sebas\"]\n",
        "  CS =[\"Andres\",\"Flowey\",\"Cata\",\"Karen\"]\n",
        "  DD= {cs:random.randint(1,50) for cs in cs}\n",
        "  DD1 = {CS:random.randint(1,50) for CS in CS}\n",
        "  return DD,DD1\n",
        "A()"
      ],
      "metadata": {
        "id": "xBV-0DC8W38K"
      },
      "execution_count": null,
      "outputs": []
    },
    {
      "cell_type": "code",
      "source": [
        "#lambda\n",
        "import random\n",
        "cs =[\"Andru\",\"David\",\"Sebas\"]\n",
        "CS =[\"Andres\",\"Flowey\",\"Cata\",\"Karen\"]\n",
        "DD= dict(map(lambda DD:(DD,random.randint(1,50)),cs))\n",
        "DD1= dict(map(lambda DD1:(DD1,random.randint(1,50)),CS))\n",
        "print(DD,DD1)"
      ],
      "metadata": {
        "id": "LLFeUxCpXKJp"
      },
      "execution_count": null,
      "outputs": []
    },
    {
      "cell_type": "markdown",
      "source": [
        "Juan David Arenales"
      ],
      "metadata": {
        "id": "T2KdJA_ocP-E"
      }
    },
    {
      "cell_type": "code",
      "source": [
        "#Lista de contactos\n",
        "#Comprension\n",
        "import pandas as pd\n",
        "import random\n",
        "def menu(C,E,N,n):\n",
        "  b=int(input(\"Menú:\\n1)Añadir contacto\\n2)Eliminar contacto\\n3)Lista de contacto\\n4)Darle emojis aleatorios\\n\"))\n",
        "  if b==1: #Añade contactos\n",
        "    d=input(\"Nombre: \") #Ingresa el nombre\n",
        "    f=d in N #Si el nombre ya esta en los contactos f es True, sino es false\n",
        "    while f==True:\n",
        "      d=input(\"Ya existe un contacto con ese nombre, escoja otro: \")\n",
        "      f=d in C[\"Nombre\"]\n",
        "    e=input(\"Número: \") #Ingresa el numero\n",
        "    N.append(d) #Añade el nombre a la lista N\n",
        "    n.append(e) #Añade el numero a la lista n\n",
        "  if b==2:# Elimina contactos\n",
        "    o=int(input(\"1)Eliminar por nombre\\n2)Eliminar por número\\n\")) #Da dos opciones para eliminar un contacto\n",
        "    if o==1: #Eliminar por nombre\n",
        "      d=input(\"Nombre: \") #Ingresa el nombre\n",
        "      f=d in N #Si el nombre ya esta en los contactos f es True, sino es false\n",
        "      if f==False:#Si ese contacto no existe en la lista\n",
        "        print(\"No existe un contacto con ese nombre\")\n",
        "      else:\n",
        "        i=N.index(d) #Busca la posición del Nombre\n",
        "        N.pop(i) #Elimina el nombre en esa posicion\n",
        "        n.pop(i) #Elimina el número en esa posicion\n",
        "    if o==2: #Eliminar por número\n",
        "      e=input(\"Número: \") #Ingresa el número\n",
        "      h= e in N #Si el numero ya esta en los contactos h es True, sino es false\n",
        "      if h==False: #Si ese contacto no existe en la lista\n",
        "        print(\"No existe un contacto con ese número\")\n",
        "      else:\n",
        "        i=n.index(e) #Busca la posición del Nombre\n",
        "        N.pop(i) #Elimina el nombre en esa posicion\n",
        "        n.pop(i) #Elimina el número en esa posicion\n",
        "  if b==3:#Imprime la lista de contactos\n",
        "    C={N[z]: n[z] for z in range(len(N)) }\n",
        "    print(C)\n",
        "  if b==4:#Le da emojis aleatorios a los contactos \n",
        "    C={N[z]: (n[z],E[random.randint(0,3)]) for z in range(len(N)) }\n",
        "    print(pd.DataFrame.from_dict(C)) #La imprime bonito con pandas\n",
        "\n",
        "  return C\n",
        "    \n",
        "C={}\n",
        "E=[\"B)\",\":)\",\"<3\",\">:v\"]#Emojis\n",
        "N=[\"juan\",\"Kyle\"]#Nombres default\n",
        "n=[\"453\",\"64782\"]#Números default\n",
        "\n",
        "a=True\n",
        "while a==True:\n",
        "  menu(C,E,N,n)"
      ],
      "metadata": {
        "id": "GRBtwEmVcPK8"
      },
      "execution_count": null,
      "outputs": []
    },
    {
      "cell_type": "code",
      "source": [
        "#Lista de contactos\n",
        "#Lambda\n",
        "import pandas as pd\n",
        "import random\n",
        "def menu(C,E,N,n):\n",
        "  b=int(input(\"Menú:\\n1)Añadir contacto\\n2)Eliminar contacto\\n3)Lista de contacto\\n4)Darle emojis aleatorios\\n\"))\n",
        "  if b==1:\n",
        "    d=input(\"Nombre: \")\n",
        "    f=d in N\n",
        "    while f==True:\n",
        "      d=input(\"Ya existe un contacto con ese nombre, escoja otro: \")\n",
        "      f=d in C[\"Nombre\"]\n",
        "    e=input(\"Número: \")\n",
        "    N.append(d)\n",
        "    n.append(e)\n",
        "  if b==2:\n",
        "    o=int(input(\"1)Eliminar por nombre\\n2)Eliminar por número\\n\"))\n",
        "    if o==1:\n",
        "      d=input(\"Nombre: \")\n",
        "      f=d in N\n",
        "      if f==False:\n",
        "        print(\"No existe un contacto con ese nombre\")\n",
        "      else:\n",
        "        i=N.index(d)\n",
        "        N.pop(i)\n",
        "        n.pop(i)\n",
        "    if o==2:\n",
        "      e=input(\"Número: \")\n",
        "      h= e in N\n",
        "      if h==False:\n",
        "        print(\"No existe un contacto con ese número\")\n",
        "      else:\n",
        "        i=n.index(e)\n",
        "        N.pop(i)\n",
        "        n.pop(i)\n",
        "  if b==3:\n",
        "    C=dict(map(lambda Nombre:(Nombre,n[N.index(Nombre)]),N)) #Lambda  \n",
        "    print(C)\n",
        "  if b==4:\n",
        "    C=dict(map(lambda Nombre:(Nombre,(n[N.index(Nombre)],E[random.randint(0,3)])),N)) #Lambda\n",
        "    print(pd.DataFrame.from_dict(C))\n",
        "    \n",
        "  return C\n",
        "    \n",
        "C={}\n",
        "E=[\"B)\",\":)\",\"<3\",\">:v\"]\n",
        "N=[\"juan\",\"Kyle\"]\n",
        "n=[\"453\",\"64782\"]\n",
        "\n",
        "a=True\n",
        "while a==True:\n",
        "  menu(C,E,N,n)"
      ],
      "metadata": {
        "id": "yhWXoBeJcWw8"
      },
      "execution_count": null,
      "outputs": []
    },
    {
      "cell_type": "code",
      "source": [
        "#Lista de contactos\n",
        "#Noob/Tradicional\n",
        "import pandas as pd\n",
        "import random\n",
        "def menu(C,E,N,n):\n",
        "  b=int(input(\"Menú:\\n1)Añadir contacto\\n2)Eliminar contacto\\n3)Lista de contacto\\n4)Darle emojis aleatorios\\n\"))\n",
        "  if b==1:\n",
        "    d=input(\"Nombre: \")\n",
        "    f=d in N\n",
        "    while f==True:\n",
        "      d=input(\"Ya existe un contacto con ese nombre, escoja otro: \")\n",
        "      f=d in C[\"Nombre\"]\n",
        "    e=input(\"Número: \")\n",
        "    N.append(d)\n",
        "    n.append(e)\n",
        "  if b==2:\n",
        "    o=int(input(\"1)Eliminar por nombre\\n2)Eliminar por número\\n\"))\n",
        "    if o==1:\n",
        "      d=input(\"Nombre: \")\n",
        "      f=d in N\n",
        "      if f==False:\n",
        "        print(\"No existe un contacto con ese nombre\")\n",
        "      else:\n",
        "        i=N.index(d)\n",
        "        N.pop(i)\n",
        "        n.pop(i)\n",
        "    if o==2:\n",
        "      e=input(\"Número: \")\n",
        "      h= e in N\n",
        "      if h==False:\n",
        "        print(\"No existe un contacto con ese número\")\n",
        "      else:\n",
        "        i=n.index(e)\n",
        "        N.pop(i)\n",
        "        n.pop(i)\n",
        "  if b==3:\n",
        "    l=len(N)\n",
        "    for a in range(l): #Tradicional\n",
        "      C[N[a]]=n[a] \n",
        "    print(C)\n",
        "  if b==4:\n",
        "    l=len(N)\n",
        "    for a in range(l):#Tradicional\n",
        "      C[N[a]]=(n[a],E[random.randint(0,3)])\n",
        "    print(pd.DataFrame.from_dict(C))\n",
        "\n",
        "  return C\n",
        "C={}\n",
        "E=[\"B)\",\":)\",\"<3\",\">:v\"]\n",
        "N=[\"juan\",\"Kyle\"]\n",
        "n=[\"453\",\"64782\"]\n",
        "\n",
        "a=True\n",
        "while a==True:\n",
        "  menu(C,E,N,n)"
      ],
      "metadata": {
        "id": "u3aETAF_cZzo"
      },
      "execution_count": null,
      "outputs": []
    }
  ]
}